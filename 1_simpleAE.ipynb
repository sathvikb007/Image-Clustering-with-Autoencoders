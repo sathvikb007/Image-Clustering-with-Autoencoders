{
  "nbformat": 4,
  "nbformat_minor": 0,
  "metadata": {
    "colab": {
      "name": "1.simpleAE.ipynb",
      "provenance": [],
      "collapsed_sections": [],
      "include_colab_link": true
    },
    "kernelspec": {
      "name": "python3",
      "display_name": "Python 3"
    },
    "accelerator": "GPU"
  },
  "cells": [
    {
      "cell_type": "markdown",
      "metadata": {
        "id": "view-in-github",
        "colab_type": "text"
      },
      "source": [
        "<a href=\"https://colab.research.google.com/github/sathvikb007/Image-Clustering-with-Autoencoders/blob/branch1/1_simpleAE.ipynb\" target=\"_parent\"><img src=\"https://colab.research.google.com/assets/colab-badge.svg\" alt=\"Open In Colab\"/></a>"
      ]
    },
    {
      "cell_type": "code",
      "metadata": {
        "id": "y5PexlbtIX-_",
        "colab_type": "code",
        "colab": {}
      },
      "source": [
        ""
      ],
      "execution_count": 0,
      "outputs": []
    },
    {
      "cell_type": "markdown",
      "metadata": {
        "id": "TWhlFbESIZgm",
        "colab_type": "text"
      },
      "source": [
        "# **Autoencoder**\n",
        "\n",
        "An autoencoderis a neural network that is trained to attempt to copy its input to its output. Internally, it has a hidden layer that describes a code used torepresent the input. The network may be viewed as consisting of two parts: an encoder function h=f(x) and a decoder that produces a reconstruction r=g(h). If an autoencoder succeeds in simply learning to set g(f(x)) =x everywhere, then it is not especially useful. Instead, it is designed to learn useful properties of the dataset.\n",
        "\n"
      ]
    },
    {
      "cell_type": "markdown",
      "metadata": {
        "id": "QEyUSHG9HzkV",
        "colab_type": "text"
      },
      "source": [
        "![alt text](https://www.compthree.com/images/blog/ae/ae.png)"
      ]
    },
    {
      "cell_type": "markdown",
      "metadata": {
        "id": "VNGZmP7ALg8C",
        "colab_type": "text"
      },
      "source": [
        "# ***Simple Autoencoder***\n",
        "\n",
        "The model below emulates a vanilla autoencoder with one hidden layer containing 49 nodes. Therefore the original images of dimensions of \n",
        "28 x 28 are reduced to\n",
        "7 x 7. These image embeddings are then used for clustering the dataset.\n"
      ]
    },
    {
      "cell_type": "markdown",
      "metadata": {
        "id": "vsYJWfQ6IE7k",
        "colab_type": "text"
      },
      "source": [
        "![alt text](https://www.jeremyjordan.me/content/images/2018/03/Screen-Shot-2018-03-06-at-3.17.13-PM.png)"
      ]
    },
    {
      "cell_type": "code",
      "metadata": {
        "id": "xCYzxn2fTh62",
        "colab_type": "code",
        "outputId": "62680e21-ac54-4ab5-b870-8e77c80f06eb",
        "colab": {
          "base_uri": "https://localhost:8080/",
          "height": 81
        }
      },
      "source": [
        "#Importing the required libraries\n",
        "\n",
        "from keras.callbacks import Callback\n",
        "from keras.layers import *\n",
        "from keras.models import Model, Sequential\n",
        "from keras.datasets import mnist\n",
        "from keras import regularizers\n",
        "from keras import optimizers\n",
        "from keras.optimizers import RMSprop\n",
        "from keras import backend as K\n",
        "import scipy\n",
        "import matplotlib.pyplot as plt\n",
        "from matplotlib.offsetbox import OffsetImage, AnnotationBbox, TextArea\n",
        "import pandas as pd\n",
        "import numpy as np\n",
        "import tensorflow as tf\n"
      ],
      "execution_count": 1,
      "outputs": [
        {
          "output_type": "stream",
          "text": [
            "Using TensorFlow backend.\n"
          ],
          "name": "stderr"
        },
        {
          "output_type": "display_data",
          "data": {
            "text/html": [
              "<p style=\"color: red;\">\n",
              "The default version of TensorFlow in Colab will soon switch to TensorFlow 2.x.<br>\n",
              "We recommend you <a href=\"https://www.tensorflow.org/guide/migrate\" target=\"_blank\">upgrade</a> now \n",
              "or ensure your notebook will continue to use TensorFlow 1.x via the <code>%tensorflow_version 1.x</code> magic:\n",
              "<a href=\"https://colab.research.google.com/notebooks/tensorflow_version.ipynb\" target=\"_blank\">more info</a>.</p>\n"
            ],
            "text/plain": [
              "<IPython.core.display.HTML object>"
            ]
          },
          "metadata": {
            "tags": []
          }
        }
      ]
    },
    {
      "cell_type": "code",
      "metadata": {
        "id": "6kgXqyBET2cJ",
        "colab_type": "code",
        "colab": {}
      },
      "source": [
        "#Loading the fashion MNIST dataset\n",
        "\n",
        "fashion_mnist = tf.keras.datasets.fashion_mnist\n",
        "(x_train, y_train), (x_test, y_test) = fashion_mnist.load_data()"
      ],
      "execution_count": 0,
      "outputs": []
    },
    {
      "cell_type": "code",
      "metadata": {
        "id": "-vKsNHrYjRZu",
        "colab_type": "code",
        "outputId": "c299859f-e6a3-4c55-dcb6-cc3c0cc7b91d",
        "colab": {
          "base_uri": "https://localhost:8080/",
          "height": 35
        }
      },
      "source": [
        "y_train.shape"
      ],
      "execution_count": 3,
      "outputs": [
        {
          "output_type": "execute_result",
          "data": {
            "text/plain": [
              "(60000,)"
            ]
          },
          "metadata": {
            "tags": []
          },
          "execution_count": 3
        }
      ]
    },
    {
      "cell_type": "code",
      "metadata": {
        "id": "FIXqJPPkT-VQ",
        "colab_type": "code",
        "outputId": "7750bcc4-b4e3-4ef5-9955-69d9fdc21459",
        "colab": {
          "base_uri": "https://localhost:8080/",
          "height": 52
        }
      },
      "source": [
        "#Normalizing the data\n",
        "\n",
        "x_train = x_train.astype('float32') / 255.\n",
        "x_test = x_test.astype('float32') / 255.\n",
        "x_train = x_train.reshape((len(x_train), np.prod(x_train.shape[1:])))\n",
        "x_test = x_test.reshape((len(x_test), np.prod(x_test.shape[1:])))\n",
        "print (x_train.shape)\n",
        "print (x_test.shape)"
      ],
      "execution_count": 4,
      "outputs": [
        {
          "output_type": "stream",
          "text": [
            "(60000, 784)\n",
            "(10000, 784)\n"
          ],
          "name": "stdout"
        }
      ]
    },
    {
      "cell_type": "code",
      "metadata": {
        "id": "jcLKsnPlUlxj",
        "colab_type": "code",
        "colab": {}
      },
      "source": [
        "#size of our encoded representations\n",
        "encoding_dim = 49 \n",
        "\n",
        "input_img = Input(shape=(784,))\n",
        "\n",
        "# \"encoded\" is the encoded representation of the input\n",
        "encoded = Dense(encoding_dim, activation='relu')(input_img)\n",
        "\n",
        "# \"decoded\" is the lossy reconstruction of the input\n",
        "decoded = Dense(784, activation='sigmoid')(encoded)\n",
        "\n",
        "# this model maps an input to its reconstruction\n",
        "autoencoder = Model(input_img, decoded)"
      ],
      "execution_count": 0,
      "outputs": []
    },
    {
      "cell_type": "code",
      "metadata": {
        "id": "IJ8pSsbjAyLY",
        "colab_type": "code",
        "colab": {}
      },
      "source": [
        ""
      ],
      "execution_count": 0,
      "outputs": []
    },
    {
      "cell_type": "code",
      "metadata": {
        "id": "ITPMQ9c-VJAB",
        "colab_type": "code",
        "colab": {}
      },
      "source": [
        "#create the encoder model\n",
        "encoder = Model(input_img, encoded)"
      ],
      "execution_count": 0,
      "outputs": []
    },
    {
      "cell_type": "code",
      "metadata": {
        "id": "Q25J3Ff7VnDT",
        "colab_type": "code",
        "colab": {}
      },
      "source": [
        "encoded_input = Input(shape=(encoding_dim,))\n",
        "\n",
        "# retrieve the last layer of the autoencoder model\n",
        "decoder_layer = autoencoder.layers[-1]\n",
        "\n",
        "# create the decoder model\n",
        "decoder = Model(encoded_input, decoder_layer(encoded_input))"
      ],
      "execution_count": 0,
      "outputs": []
    },
    {
      "cell_type": "code",
      "metadata": {
        "id": "9JPpP7QeV4Vf",
        "colab_type": "code",
        "outputId": "05719b20-b115-485a-c429-c857bfe8ba46",
        "colab": {
          "base_uri": "https://localhost:8080/",
          "height": 52
        }
      },
      "source": [
        "autoencoder.compile(optimizer='adadelta', loss='mean_squared_error')"
      ],
      "execution_count": 8,
      "outputs": [
        {
          "output_type": "stream",
          "text": [
            "WARNING:tensorflow:From /usr/local/lib/python3.6/dist-packages/keras/optimizers.py:793: The name tf.train.Optimizer is deprecated. Please use tf.compat.v1.train.Optimizer instead.\n",
            "\n"
          ],
          "name": "stdout"
        }
      ]
    },
    {
      "cell_type": "code",
      "metadata": {
        "id": "LdjSlJhxV8K5",
        "colab_type": "code",
        "outputId": "11dda6b2-60ae-42c7-ada8-772f5804e6de",
        "colab": {
          "base_uri": "https://localhost:8080/",
          "height": 1000
        }
      },
      "source": [
        "class LossHistory(Callback):\n",
        "    def on_train_begin(self, logs={}):\n",
        "        self.losses = []\n",
        "\n",
        "    def on_epoch_end(self, batch, logs={}):\n",
        "        self.losses.append(logs.get('loss'))\n",
        "\n",
        "history = LossHistory()\n",
        "\n",
        "autoencoder.fit(x_train, x_train,\n",
        "                epochs=150,\n",
        "                batch_size=256,\n",
        "                shuffle=True,\n",
        "                validation_data=(x_test, x_test),\n",
        "                callbacks=[history])\n",
        "\n"
      ],
      "execution_count": 9,
      "outputs": [
        {
          "output_type": "stream",
          "text": [
            "WARNING:tensorflow:From /usr/local/lib/python3.6/dist-packages/keras/backend/tensorflow_backend.py:1033: The name tf.assign_add is deprecated. Please use tf.compat.v1.assign_add instead.\n",
            "\n",
            "WARNING:tensorflow:From /usr/local/lib/python3.6/dist-packages/keras/backend/tensorflow_backend.py:1020: The name tf.assign is deprecated. Please use tf.compat.v1.assign instead.\n",
            "\n",
            "WARNING:tensorflow:From /usr/local/lib/python3.6/dist-packages/keras/backend/tensorflow_backend.py:3005: The name tf.Session is deprecated. Please use tf.compat.v1.Session instead.\n",
            "\n",
            "Train on 60000 samples, validate on 10000 samples\n",
            "Epoch 1/150\n",
            "WARNING:tensorflow:From /usr/local/lib/python3.6/dist-packages/keras/backend/tensorflow_backend.py:190: The name tf.get_default_session is deprecated. Please use tf.compat.v1.get_default_session instead.\n",
            "\n",
            "WARNING:tensorflow:From /usr/local/lib/python3.6/dist-packages/keras/backend/tensorflow_backend.py:197: The name tf.ConfigProto is deprecated. Please use tf.compat.v1.ConfigProto instead.\n",
            "\n",
            "WARNING:tensorflow:From /usr/local/lib/python3.6/dist-packages/keras/backend/tensorflow_backend.py:207: The name tf.global_variables is deprecated. Please use tf.compat.v1.global_variables instead.\n",
            "\n",
            "WARNING:tensorflow:From /usr/local/lib/python3.6/dist-packages/keras/backend/tensorflow_backend.py:216: The name tf.is_variable_initialized is deprecated. Please use tf.compat.v1.is_variable_initialized instead.\n",
            "\n",
            "WARNING:tensorflow:From /usr/local/lib/python3.6/dist-packages/keras/backend/tensorflow_backend.py:223: The name tf.variables_initializer is deprecated. Please use tf.compat.v1.variables_initializer instead.\n",
            "\n",
            "60000/60000 [==============================] - 2s 39us/step - loss: 0.1146 - val_loss: 0.0894\n",
            "Epoch 2/150\n",
            "60000/60000 [==============================] - 1s 17us/step - loss: 0.0813 - val_loss: 0.0722\n",
            "Epoch 3/150\n",
            "60000/60000 [==============================] - 1s 18us/step - loss: 0.0668 - val_loss: 0.0615\n",
            "Epoch 4/150\n",
            "60000/60000 [==============================] - 1s 18us/step - loss: 0.0591 - val_loss: 0.0565\n",
            "Epoch 5/150\n",
            "60000/60000 [==============================] - 1s 18us/step - loss: 0.0551 - val_loss: 0.0533\n",
            "Epoch 6/150\n",
            "60000/60000 [==============================] - 1s 18us/step - loss: 0.0521 - val_loss: 0.0505\n",
            "Epoch 7/150\n",
            "60000/60000 [==============================] - 1s 19us/step - loss: 0.0494 - val_loss: 0.0479\n",
            "Epoch 8/150\n",
            "60000/60000 [==============================] - 1s 18us/step - loss: 0.0469 - val_loss: 0.0455\n",
            "Epoch 9/150\n",
            "60000/60000 [==============================] - 1s 19us/step - loss: 0.0446 - val_loss: 0.0434\n",
            "Epoch 10/150\n",
            "60000/60000 [==============================] - 1s 20us/step - loss: 0.0426 - val_loss: 0.0415\n",
            "Epoch 11/150\n",
            "60000/60000 [==============================] - 1s 19us/step - loss: 0.0408 - val_loss: 0.0398\n",
            "Epoch 12/150\n",
            "60000/60000 [==============================] - 1s 19us/step - loss: 0.0391 - val_loss: 0.0382\n",
            "Epoch 13/150\n",
            "60000/60000 [==============================] - 1s 17us/step - loss: 0.0375 - val_loss: 0.0367\n",
            "Epoch 14/150\n",
            "60000/60000 [==============================] - 1s 19us/step - loss: 0.0361 - val_loss: 0.0353\n",
            "Epoch 15/150\n",
            "60000/60000 [==============================] - 1s 18us/step - loss: 0.0347 - val_loss: 0.0340\n",
            "Epoch 16/150\n",
            "60000/60000 [==============================] - 1s 17us/step - loss: 0.0334 - val_loss: 0.0328\n",
            "Epoch 17/150\n",
            "60000/60000 [==============================] - 1s 19us/step - loss: 0.0323 - val_loss: 0.0317\n",
            "Epoch 18/150\n",
            "60000/60000 [==============================] - 1s 18us/step - loss: 0.0312 - val_loss: 0.0307\n",
            "Epoch 19/150\n",
            "60000/60000 [==============================] - 1s 19us/step - loss: 0.0303 - val_loss: 0.0299\n",
            "Epoch 20/150\n",
            "60000/60000 [==============================] - 1s 18us/step - loss: 0.0295 - val_loss: 0.0291\n",
            "Epoch 21/150\n",
            "60000/60000 [==============================] - 1s 18us/step - loss: 0.0287 - val_loss: 0.0283\n",
            "Epoch 22/150\n",
            "60000/60000 [==============================] - 1s 18us/step - loss: 0.0280 - val_loss: 0.0277\n",
            "Epoch 23/150\n",
            "60000/60000 [==============================] - 1s 19us/step - loss: 0.0274 - val_loss: 0.0271\n",
            "Epoch 24/150\n",
            "60000/60000 [==============================] - 1s 19us/step - loss: 0.0268 - val_loss: 0.0265\n",
            "Epoch 25/150\n",
            "60000/60000 [==============================] - 1s 18us/step - loss: 0.0262 - val_loss: 0.0260\n",
            "Epoch 26/150\n",
            "60000/60000 [==============================] - 1s 18us/step - loss: 0.0258 - val_loss: 0.0255\n",
            "Epoch 27/150\n",
            "60000/60000 [==============================] - 1s 19us/step - loss: 0.0253 - val_loss: 0.0251\n",
            "Epoch 28/150\n",
            "60000/60000 [==============================] - 1s 17us/step - loss: 0.0249 - val_loss: 0.0247\n",
            "Epoch 29/150\n",
            "60000/60000 [==============================] - 1s 18us/step - loss: 0.0245 - val_loss: 0.0244\n",
            "Epoch 30/150\n",
            "60000/60000 [==============================] - 1s 17us/step - loss: 0.0242 - val_loss: 0.0240\n",
            "Epoch 31/150\n",
            "60000/60000 [==============================] - 1s 18us/step - loss: 0.0238 - val_loss: 0.0237\n",
            "Epoch 32/150\n",
            "60000/60000 [==============================] - 1s 18us/step - loss: 0.0235 - val_loss: 0.0234\n",
            "Epoch 33/150\n",
            "60000/60000 [==============================] - 1s 17us/step - loss: 0.0232 - val_loss: 0.0231\n",
            "Epoch 34/150\n",
            "60000/60000 [==============================] - 1s 19us/step - loss: 0.0230 - val_loss: 0.0229\n",
            "Epoch 35/150\n",
            "60000/60000 [==============================] - 1s 18us/step - loss: 0.0227 - val_loss: 0.0226\n",
            "Epoch 36/150\n",
            "60000/60000 [==============================] - 1s 17us/step - loss: 0.0225 - val_loss: 0.0224\n",
            "Epoch 37/150\n",
            "60000/60000 [==============================] - 1s 18us/step - loss: 0.0223 - val_loss: 0.0222\n",
            "Epoch 38/150\n",
            "60000/60000 [==============================] - 1s 17us/step - loss: 0.0221 - val_loss: 0.0220\n",
            "Epoch 39/150\n",
            "60000/60000 [==============================] - 1s 17us/step - loss: 0.0219 - val_loss: 0.0218\n",
            "Epoch 40/150\n",
            "60000/60000 [==============================] - 1s 18us/step - loss: 0.0217 - val_loss: 0.0217\n",
            "Epoch 41/150\n",
            "60000/60000 [==============================] - 1s 16us/step - loss: 0.0215 - val_loss: 0.0215\n",
            "Epoch 42/150\n",
            "60000/60000 [==============================] - 1s 18us/step - loss: 0.0214 - val_loss: 0.0213\n",
            "Epoch 43/150\n",
            "60000/60000 [==============================] - 1s 19us/step - loss: 0.0212 - val_loss: 0.0212\n",
            "Epoch 44/150\n",
            "60000/60000 [==============================] - 1s 19us/step - loss: 0.0211 - val_loss: 0.0210\n",
            "Epoch 45/150\n",
            "60000/60000 [==============================] - 1s 18us/step - loss: 0.0209 - val_loss: 0.0209\n",
            "Epoch 46/150\n",
            "60000/60000 [==============================] - 1s 18us/step - loss: 0.0208 - val_loss: 0.0208\n",
            "Epoch 47/150\n",
            "60000/60000 [==============================] - 1s 19us/step - loss: 0.0207 - val_loss: 0.0206\n",
            "Epoch 48/150\n",
            "60000/60000 [==============================] - 1s 20us/step - loss: 0.0205 - val_loss: 0.0205\n",
            "Epoch 49/150\n",
            "60000/60000 [==============================] - 1s 18us/step - loss: 0.0204 - val_loss: 0.0204\n",
            "Epoch 50/150\n",
            "60000/60000 [==============================] - 1s 18us/step - loss: 0.0203 - val_loss: 0.0203\n",
            "Epoch 51/150\n",
            "60000/60000 [==============================] - 1s 18us/step - loss: 0.0202 - val_loss: 0.0201\n",
            "Epoch 52/150\n",
            "60000/60000 [==============================] - 1s 18us/step - loss: 0.0200 - val_loss: 0.0200\n",
            "Epoch 53/150\n",
            "60000/60000 [==============================] - 1s 18us/step - loss: 0.0199 - val_loss: 0.0199\n",
            "Epoch 54/150\n",
            "60000/60000 [==============================] - 1s 18us/step - loss: 0.0198 - val_loss: 0.0198\n",
            "Epoch 55/150\n",
            "60000/60000 [==============================] - 1s 16us/step - loss: 0.0197 - val_loss: 0.0197\n",
            "Epoch 56/150\n",
            "60000/60000 [==============================] - 1s 17us/step - loss: 0.0196 - val_loss: 0.0196\n",
            "Epoch 57/150\n",
            "60000/60000 [==============================] - 1s 18us/step - loss: 0.0195 - val_loss: 0.0195\n",
            "Epoch 58/150\n",
            "60000/60000 [==============================] - 1s 17us/step - loss: 0.0194 - val_loss: 0.0194\n",
            "Epoch 59/150\n",
            "60000/60000 [==============================] - 1s 18us/step - loss: 0.0193 - val_loss: 0.0193\n",
            "Epoch 60/150\n",
            "60000/60000 [==============================] - 1s 18us/step - loss: 0.0192 - val_loss: 0.0192\n",
            "Epoch 61/150\n",
            "60000/60000 [==============================] - 1s 17us/step - loss: 0.0191 - val_loss: 0.0191\n",
            "Epoch 62/150\n",
            "60000/60000 [==============================] - 1s 17us/step - loss: 0.0190 - val_loss: 0.0190\n",
            "Epoch 63/150\n",
            "60000/60000 [==============================] - 1s 17us/step - loss: 0.0190 - val_loss: 0.0190\n",
            "Epoch 64/150\n",
            "60000/60000 [==============================] - 1s 16us/step - loss: 0.0189 - val_loss: 0.0189\n",
            "Epoch 65/150\n",
            "60000/60000 [==============================] - 1s 19us/step - loss: 0.0188 - val_loss: 0.0188\n",
            "Epoch 66/150\n",
            "60000/60000 [==============================] - 1s 18us/step - loss: 0.0187 - val_loss: 0.0187\n",
            "Epoch 67/150\n",
            "60000/60000 [==============================] - 1s 17us/step - loss: 0.0186 - val_loss: 0.0186\n",
            "Epoch 68/150\n",
            "60000/60000 [==============================] - 1s 17us/step - loss: 0.0185 - val_loss: 0.0185\n",
            "Epoch 69/150\n",
            "60000/60000 [==============================] - 1s 18us/step - loss: 0.0184 - val_loss: 0.0184\n",
            "Epoch 70/150\n",
            "60000/60000 [==============================] - 1s 17us/step - loss: 0.0184 - val_loss: 0.0184\n",
            "Epoch 71/150\n",
            "60000/60000 [==============================] - 1s 16us/step - loss: 0.0183 - val_loss: 0.0183\n",
            "Epoch 72/150\n",
            "60000/60000 [==============================] - 1s 17us/step - loss: 0.0182 - val_loss: 0.0182\n",
            "Epoch 73/150\n",
            "60000/60000 [==============================] - 1s 16us/step - loss: 0.0181 - val_loss: 0.0181\n",
            "Epoch 74/150\n",
            "60000/60000 [==============================] - 1s 18us/step - loss: 0.0180 - val_loss: 0.0180\n",
            "Epoch 75/150\n",
            "60000/60000 [==============================] - 1s 16us/step - loss: 0.0180 - val_loss: 0.0180\n",
            "Epoch 76/150\n",
            "60000/60000 [==============================] - 1s 18us/step - loss: 0.0179 - val_loss: 0.0179\n",
            "Epoch 77/150\n",
            "60000/60000 [==============================] - 1s 18us/step - loss: 0.0178 - val_loss: 0.0178\n",
            "Epoch 78/150\n",
            "60000/60000 [==============================] - 1s 17us/step - loss: 0.0177 - val_loss: 0.0178\n",
            "Epoch 79/150\n",
            "60000/60000 [==============================] - 1s 17us/step - loss: 0.0177 - val_loss: 0.0177\n",
            "Epoch 80/150\n",
            "60000/60000 [==============================] - 1s 19us/step - loss: 0.0176 - val_loss: 0.0176\n",
            "Epoch 81/150\n",
            "60000/60000 [==============================] - 1s 19us/step - loss: 0.0175 - val_loss: 0.0175\n",
            "Epoch 82/150\n",
            "60000/60000 [==============================] - 1s 17us/step - loss: 0.0175 - val_loss: 0.0175\n",
            "Epoch 83/150\n",
            "60000/60000 [==============================] - 1s 16us/step - loss: 0.0174 - val_loss: 0.0174\n",
            "Epoch 84/150\n",
            "60000/60000 [==============================] - 1s 17us/step - loss: 0.0173 - val_loss: 0.0173\n",
            "Epoch 85/150\n",
            "60000/60000 [==============================] - 1s 18us/step - loss: 0.0173 - val_loss: 0.0173\n",
            "Epoch 86/150\n",
            "60000/60000 [==============================] - 1s 17us/step - loss: 0.0172 - val_loss: 0.0172\n",
            "Epoch 87/150\n",
            "60000/60000 [==============================] - 1s 18us/step - loss: 0.0171 - val_loss: 0.0171\n",
            "Epoch 88/150\n",
            "60000/60000 [==============================] - 1s 18us/step - loss: 0.0171 - val_loss: 0.0171\n",
            "Epoch 89/150\n",
            "60000/60000 [==============================] - 1s 18us/step - loss: 0.0170 - val_loss: 0.0170\n",
            "Epoch 90/150\n",
            "60000/60000 [==============================] - 1s 17us/step - loss: 0.0169 - val_loss: 0.0169\n",
            "Epoch 91/150\n",
            "60000/60000 [==============================] - 1s 19us/step - loss: 0.0169 - val_loss: 0.0169\n",
            "Epoch 92/150\n",
            "60000/60000 [==============================] - 1s 17us/step - loss: 0.0168 - val_loss: 0.0168\n",
            "Epoch 93/150\n",
            "60000/60000 [==============================] - 1s 17us/step - loss: 0.0167 - val_loss: 0.0167\n",
            "Epoch 94/150\n",
            "60000/60000 [==============================] - 1s 17us/step - loss: 0.0167 - val_loss: 0.0167\n",
            "Epoch 95/150\n",
            "60000/60000 [==============================] - 1s 17us/step - loss: 0.0166 - val_loss: 0.0166\n",
            "Epoch 96/150\n",
            "60000/60000 [==============================] - 1s 18us/step - loss: 0.0165 - val_loss: 0.0166\n",
            "Epoch 97/150\n",
            "60000/60000 [==============================] - 1s 19us/step - loss: 0.0165 - val_loss: 0.0165\n",
            "Epoch 98/150\n",
            "60000/60000 [==============================] - 1s 18us/step - loss: 0.0164 - val_loss: 0.0165\n",
            "Epoch 99/150\n",
            "60000/60000 [==============================] - 1s 17us/step - loss: 0.0164 - val_loss: 0.0164\n",
            "Epoch 100/150\n",
            "60000/60000 [==============================] - 1s 20us/step - loss: 0.0163 - val_loss: 0.0163\n",
            "Epoch 101/150\n",
            "60000/60000 [==============================] - 1s 18us/step - loss: 0.0163 - val_loss: 0.0163\n",
            "Epoch 102/150\n",
            "60000/60000 [==============================] - 1s 18us/step - loss: 0.0162 - val_loss: 0.0162\n",
            "Epoch 103/150\n",
            "60000/60000 [==============================] - 1s 17us/step - loss: 0.0162 - val_loss: 0.0162\n",
            "Epoch 104/150\n",
            "60000/60000 [==============================] - 1s 18us/step - loss: 0.0161 - val_loss: 0.0161\n",
            "Epoch 105/150\n",
            "60000/60000 [==============================] - 1s 19us/step - loss: 0.0161 - val_loss: 0.0161\n",
            "Epoch 106/150\n",
            "60000/60000 [==============================] - 1s 17us/step - loss: 0.0160 - val_loss: 0.0160\n",
            "Epoch 107/150\n",
            "60000/60000 [==============================] - 1s 17us/step - loss: 0.0160 - val_loss: 0.0160\n",
            "Epoch 108/150\n",
            "60000/60000 [==============================] - 1s 17us/step - loss: 0.0159 - val_loss: 0.0159\n",
            "Epoch 109/150\n",
            "60000/60000 [==============================] - 1s 18us/step - loss: 0.0159 - val_loss: 0.0159\n",
            "Epoch 110/150\n",
            "60000/60000 [==============================] - 1s 19us/step - loss: 0.0158 - val_loss: 0.0158\n",
            "Epoch 111/150\n",
            "60000/60000 [==============================] - 1s 17us/step - loss: 0.0158 - val_loss: 0.0158\n",
            "Epoch 112/150\n",
            "60000/60000 [==============================] - 1s 18us/step - loss: 0.0157 - val_loss: 0.0157\n",
            "Epoch 113/150\n",
            "60000/60000 [==============================] - 1s 18us/step - loss: 0.0157 - val_loss: 0.0157\n",
            "Epoch 114/150\n",
            "60000/60000 [==============================] - 1s 18us/step - loss: 0.0156 - val_loss: 0.0157\n",
            "Epoch 115/150\n",
            "60000/60000 [==============================] - 1s 18us/step - loss: 0.0156 - val_loss: 0.0156\n",
            "Epoch 116/150\n",
            "60000/60000 [==============================] - 1s 19us/step - loss: 0.0155 - val_loss: 0.0156\n",
            "Epoch 117/150\n",
            "60000/60000 [==============================] - 1s 19us/step - loss: 0.0155 - val_loss: 0.0155\n",
            "Epoch 118/150\n",
            "60000/60000 [==============================] - 1s 20us/step - loss: 0.0154 - val_loss: 0.0155\n",
            "Epoch 119/150\n",
            "60000/60000 [==============================] - 1s 19us/step - loss: 0.0154 - val_loss: 0.0154\n",
            "Epoch 120/150\n",
            "60000/60000 [==============================] - 1s 20us/step - loss: 0.0154 - val_loss: 0.0154\n",
            "Epoch 121/150\n",
            "60000/60000 [==============================] - 1s 20us/step - loss: 0.0153 - val_loss: 0.0154\n",
            "Epoch 122/150\n",
            "60000/60000 [==============================] - 1s 19us/step - loss: 0.0153 - val_loss: 0.0153\n",
            "Epoch 123/150\n",
            "60000/60000 [==============================] - 1s 20us/step - loss: 0.0152 - val_loss: 0.0153\n",
            "Epoch 124/150\n",
            "60000/60000 [==============================] - 1s 19us/step - loss: 0.0152 - val_loss: 0.0152\n",
            "Epoch 125/150\n",
            "60000/60000 [==============================] - 1s 18us/step - loss: 0.0152 - val_loss: 0.0152\n",
            "Epoch 126/150\n",
            "60000/60000 [==============================] - 1s 18us/step - loss: 0.0151 - val_loss: 0.0152\n",
            "Epoch 127/150\n",
            "60000/60000 [==============================] - 1s 19us/step - loss: 0.0151 - val_loss: 0.0151\n",
            "Epoch 128/150\n",
            "60000/60000 [==============================] - 1s 18us/step - loss: 0.0150 - val_loss: 0.0151\n",
            "Epoch 129/150\n",
            "60000/60000 [==============================] - 1s 19us/step - loss: 0.0150 - val_loss: 0.0150\n",
            "Epoch 130/150\n",
            "60000/60000 [==============================] - 1s 17us/step - loss: 0.0150 - val_loss: 0.0150\n",
            "Epoch 131/150\n",
            "60000/60000 [==============================] - 1s 18us/step - loss: 0.0149 - val_loss: 0.0150\n",
            "Epoch 132/150\n",
            "60000/60000 [==============================] - 1s 19us/step - loss: 0.0149 - val_loss: 0.0149\n",
            "Epoch 133/150\n",
            "60000/60000 [==============================] - 1s 18us/step - loss: 0.0149 - val_loss: 0.0149\n",
            "Epoch 134/150\n",
            "60000/60000 [==============================] - 1s 18us/step - loss: 0.0148 - val_loss: 0.0149\n",
            "Epoch 135/150\n",
            "60000/60000 [==============================] - 1s 18us/step - loss: 0.0148 - val_loss: 0.0148\n",
            "Epoch 136/150\n",
            "60000/60000 [==============================] - 1s 17us/step - loss: 0.0147 - val_loss: 0.0148\n",
            "Epoch 137/150\n",
            "60000/60000 [==============================] - 1s 17us/step - loss: 0.0147 - val_loss: 0.0148\n",
            "Epoch 138/150\n",
            "60000/60000 [==============================] - 1s 18us/step - loss: 0.0147 - val_loss: 0.0147\n",
            "Epoch 139/150\n",
            "60000/60000 [==============================] - 1s 18us/step - loss: 0.0146 - val_loss: 0.0147\n",
            "Epoch 140/150\n",
            "60000/60000 [==============================] - 1s 18us/step - loss: 0.0146 - val_loss: 0.0147\n",
            "Epoch 141/150\n",
            "60000/60000 [==============================] - 1s 18us/step - loss: 0.0146 - val_loss: 0.0146\n",
            "Epoch 142/150\n",
            "60000/60000 [==============================] - 1s 17us/step - loss: 0.0146 - val_loss: 0.0146\n",
            "Epoch 143/150\n",
            "60000/60000 [==============================] - 1s 18us/step - loss: 0.0145 - val_loss: 0.0146\n",
            "Epoch 144/150\n",
            "60000/60000 [==============================] - 1s 17us/step - loss: 0.0145 - val_loss: 0.0145\n",
            "Epoch 145/150\n",
            "60000/60000 [==============================] - 1s 18us/step - loss: 0.0145 - val_loss: 0.0145\n",
            "Epoch 146/150\n",
            "60000/60000 [==============================] - 1s 17us/step - loss: 0.0144 - val_loss: 0.0145\n",
            "Epoch 147/150\n",
            "60000/60000 [==============================] - 1s 18us/step - loss: 0.0144 - val_loss: 0.0144\n",
            "Epoch 148/150\n",
            "60000/60000 [==============================] - 1s 18us/step - loss: 0.0144 - val_loss: 0.0144\n",
            "Epoch 149/150\n",
            "60000/60000 [==============================] - 1s 18us/step - loss: 0.0143 - val_loss: 0.0144\n",
            "Epoch 150/150\n",
            "60000/60000 [==============================] - 1s 19us/step - loss: 0.0143 - val_loss: 0.0144\n"
          ],
          "name": "stdout"
        },
        {
          "output_type": "execute_result",
          "data": {
            "text/plain": [
              "<keras.callbacks.History at 0x7f2395e0dbe0>"
            ]
          },
          "metadata": {
            "tags": []
          },
          "execution_count": 9
        }
      ]
    },
    {
      "cell_type": "code",
      "metadata": {
        "id": "O4e63KUDxCJV",
        "colab_type": "code",
        "colab": {
          "base_uri": "https://localhost:8080/",
          "height": 297
        },
        "outputId": "0065ea0c-84df-4f82-8594-1341d1375593"
      },
      "source": [
        "#To plot loss vs epoch\n",
        "\n",
        "plt.plot(list(range(len(history.losses))), history.losses)\n",
        "plt.xlabel('epoch')\n",
        "plt.ylabel('mean squared error')"
      ],
      "execution_count": 10,
      "outputs": [
        {
          "output_type": "execute_result",
          "data": {
            "text/plain": [
              "Text(0, 0.5, 'mean squared error')"
            ]
          },
          "metadata": {
            "tags": []
          },
          "execution_count": 10
        },
        {
          "output_type": "display_data",
          "data": {
            "image/png": "[encoded data removed]",
            "text/plain": [
              "<Figure size 432x288 with 1 Axes>"
            ]
          },
          "metadata": {
            "tags": []
          }
        }
      ]
    },
    {
      "cell_type": "code",
      "metadata": {
        "id": "dCnh8SkFWy7t",
        "colab_type": "code",
        "colab": {}
      },
      "source": [
        "SAE_encoded_imgs_train = encoder.predict(x_train)                   #contains all the encoded images of the training set\n",
        "SAE_decoded_imgs_train = decoder.predict(SAE_encoded_imgs_train)    #contains all the reconstructed images of the training set\n",
        "\n",
        "SAE_encoded_imgs_test = encoder.predict(x_test)                     #contains all the encoded images of the test set\n",
        "SAE_decoded_imgs_test = decoder.predict(SAE_encoded_imgs_test)      #contains all the reconstructed images of the test set"
      ],
      "execution_count": 0,
      "outputs": []
    },
    {
      "cell_type": "code",
      "metadata": {
        "id": "54laPBjWXC1S",
        "colab_type": "code",
        "outputId": "cdbdb6a2-5446-4eae-8052-a8d5c3ef3543",
        "colab": {
          "base_uri": "https://localhost:8080/",
          "height": 396
        }
      },
      "source": [
        "# To display original image , reconstructed image, and latent representation of each image in a lower dimension\n",
        "\n",
        "n = 10\n",
        "plt.figure(figsize=(30,6))\n",
        "for i in range(n):\n",
        "\n",
        "    # display original\n",
        "\n",
        "    ax = plt.subplot(3, n, i + 1)\n",
        "    plt.gray()\n",
        "    plt.imshow(x_train[i].reshape(28, 28))\n",
        "    \n",
        "    \n",
        "\n",
        "    # display reconstruction of the imgae\n",
        "\n",
        "    ax = plt.subplot(3, n, i + 1 + n)\n",
        "    plt.imshow(SAE_decoded_imgs_train[i].reshape(28, 28))\n",
        "\n",
        "    #display latent representation\n",
        "    \n",
        "    ax = plt.subplot(3, n, i+1+ n*2)\n",
        "    plt.imshow(SAE_encoded_imgs_train[i].reshape(7,7))\n",
        "   \n",
        "plt.show()"
      ],
      "execution_count": 12,
      "outputs": [
        {
          "output_type": "display_data",
          "data": {
            "image/png": "[encoded data removed]",
            "text/plain": [
              "<Figure size 2160x432 with 30 Axes>"
            ]
          },
          "metadata": {
            "tags": []
          }
        }
      ]
    },
    {
      "cell_type": "code",
      "metadata": {
        "id": "1oWqeoUQm2PT",
        "colab_type": "code",
        "colab": {}
      },
      "source": [
        ""
      ],
      "execution_count": 0,
      "outputs": []
    },
    {
      "cell_type": "code",
      "metadata": {
        "id": "y72zv9Iwm2WS",
        "colab_type": "code",
        "colab": {}
      },
      "source": [
        ""
      ],
      "execution_count": 0,
      "outputs": []
    },
    {
      "cell_type": "code",
      "metadata": {
        "id": "XtQo2_q_m2a5",
        "colab_type": "code",
        "colab": {}
      },
      "source": [
        ""
      ],
      "execution_count": 0,
      "outputs": []
    },
    {
      "cell_type": "markdown",
      "metadata": {
        "id": "HUtvfvLumLA6",
        "colab_type": "text"
      },
      "source": [
        "As seen in the second row, most of the original details of the original image have been lost. "
      ]
    },
    {
      "cell_type": "code",
      "metadata": {
        "id": "AydgdIcam3Kn",
        "colab_type": "code",
        "colab": {}
      },
      "source": [
        ""
      ],
      "execution_count": 0,
      "outputs": []
    },
    {
      "cell_type": "code",
      "metadata": {
        "id": "GvKpVTgXJGoM",
        "colab_type": "code",
        "colab": {}
      },
      "source": [
        "# Standardizing the encoded data\n",
        "\n",
        "from sklearn.preprocessing import StandardScaler\n",
        "sc = StandardScaler()\n",
        "X_train = sc.fit_transform(SAE_encoded_imgs_train)\n",
        "X_test  = sc.transform(SAE_encoded_imgs_test)"
      ],
      "execution_count": 0,
      "outputs": []
    },
    {
      "cell_type": "code",
      "metadata": {
        "id": "U-OVRJ6VN9oX",
        "colab_type": "code",
        "colab": {}
      },
      "source": [
        "#Clustering the data into 10 classes with the encoded data\n",
        "\n",
        "from sklearn.cluster import KMeans\n",
        "SAEkmeans = KMeans(n_clusters=10, random_state=0).fit(X_train)"
      ],
      "execution_count": 0,
      "outputs": []
    },
    {
      "cell_type": "code",
      "metadata": {
        "id": "uZjTB8ylPNMC",
        "colab_type": "code",
        "colab": {}
      },
      "source": [
        "yPredtrain = SAEkmeans.predict(X_train)\n",
        "yPredtest = SAEkmeans.predict(X_test)"
      ],
      "execution_count": 0,
      "outputs": []
    },
    {
      "cell_type": "code",
      "metadata": {
        "id": "Y_otBy3JWkeU",
        "colab_type": "code",
        "outputId": "83d8adfc-815f-44cc-d17c-b80526c183c8",
        "colab": {
          "base_uri": "https://localhost:8080/",
          "height": 52
        }
      },
      "source": [
        "from sklearn import metrics\n",
        "print(metrics.adjusted_rand_score(y_train.reshape(60000,).tolist(), yPredtrain.tolist()))\n",
        "print(metrics.adjusted_rand_score(y_test.reshape(10000,).tolist(), yPredtest.tolist()))"
      ],
      "execution_count": 16,
      "outputs": [
        {
          "output_type": "stream",
          "text": [
            "0.30932005605313123\n",
            "0.30616342938182095\n"
          ],
          "name": "stdout"
        }
      ]
    },
    {
      "cell_type": "markdown",
      "metadata": {
        "id": "lCOt8b3mnTFa",
        "colab_type": "text"
      },
      "source": [
        "The Rand Index computes a similarity measure between two clusterings by considering all pairs of samples and counting pairs that are assigned in the same or different clusters in the predicted and true clusterings. \n",
        "\n",
        "The adjusted Rand index is thus ensured to have a value close to 0.0 for random labeling independently of the number of clusters and samples and exactly 1.0 when the clusterings are identical.\n",
        "\n",
        "ARI is useful when the true labels for the clusters are given ( here, y_train and y_test are the true labels ) ARI does not depend on the actual value of the true labels given but the similarity between the predicted and true values."
      ]
    },
    {
      "cell_type": "code",
      "metadata": {
        "id": "Xf412__rGB4P",
        "colab_type": "code",
        "colab": {
          "base_uri": "https://localhost:8080/",
          "height": 52
        },
        "outputId": "a3eac776-00b8-4fdc-d044-b22b065dd93b"
      },
      "source": [
        "from sklearn.metrics import normalized_mutual_info_score\n",
        "print(normalized_mutual_info_score(y_train, yPredtrain))\n",
        "print(normalized_mutual_info_score(y_test, yPredtest))"
      ],
      "execution_count": 17,
      "outputs": [
        {
          "output_type": "stream",
          "text": [
            "0.4518501378209331\n",
            "0.4472549638841731\n"
          ],
          "name": "stdout"
        }
      ]
    },
    {
      "cell_type": "markdown",
      "metadata": {
        "id": "7qbHVFs3Gupc",
        "colab_type": "text"
      },
      "source": [
        "Mutual information is a symmetric measure for the degree of dependency between the clustering and the manual classification. It is based on the notion of cluster purity pi, which measures the quality of a single cluster Ci, the largest number of objects in cluster Ci which Ci has in common with a manual class Mj, having compared Ci to all manual classes in M.\n",
        "\n",
        "The formula for NMI is:\n",
        "\n"
      ]
    },
    {
      "cell_type": "markdown",
      "metadata": {
        "id": "N1PTJsyIG6td",
        "colab_type": "text"
      },
      "source": [
        "![NMI](https://s3-ap-south-1.amazonaws.com/av-blog-media/wp-content/uploads/2018/04/data-mining-an-introduction-69-638.jpg)"
      ]
    },
    {
      "cell_type": "code",
      "metadata": {
        "id": "4kZBvRmQHGnR",
        "colab_type": "code",
        "colab": {}
      },
      "source": [
        ""
      ],
      "execution_count": 0,
      "outputs": []
    }
  ]
}