{
  "nbformat": 4,
  "nbformat_minor": 0,
  "metadata": {
    "colab": {
      "name": "2.deepAE.ipynb",
      "provenance": [],
      "collapsed_sections": [],
      "include_colab_link": true
    },
    "kernelspec": {
      "name": "python3",
      "display_name": "Python 3"
    },
    "accelerator": "GPU"
  },
  "cells": [
    {
      "cell_type": "markdown",
      "metadata": {
        "id": "view-in-github",
        "colab_type": "text"
      },
      "source": [
        "<a href=\"https://colab.research.google.com/github/sathvikb007/Image-Clustering-with-Autoencoders/blob/branch1/2_deepAE.ipynb\" target=\"_parent\"><img src=\"https://colab.research.google.com/assets/colab-badge.svg\" alt=\"Open In Colab\"/></a>"
      ]
    },
    {
      "cell_type": "markdown",
      "metadata": {
        "id": "QmO9DWywp62H",
        "colab_type": "text"
      },
      "source": [
        "# ***Deep Autoencoder***\n",
        "\n",
        "The model below emulates a deep autoencoder. The encoder consists of 4 hidden layers of 512, 256, 128 and 64 nodes sequentially. The bottleneck layer, consisting of 49 nodes, contains the encoded image of dimensions 7 x 7."
      ]
    },
    {
      "cell_type": "code",
      "metadata": {
        "id": "RgSZyjd60_OI",
        "colab_type": "code",
        "outputId": "7d040950-731d-4183-8cc7-6a41e8dfcf03",
        "colab": {
          "base_uri": "https://localhost:8080/",
          "height": 81
        }
      },
      "source": [
        "#Importing the required libraries\n",
        "\n",
        "from keras.callbacks import Callback\n",
        "from keras.layers import *\n",
        "from keras.models import Model, Sequential\n",
        "from keras.datasets import mnist\n",
        "from keras import regularizers\n",
        "from keras import optimizers\n",
        "from keras.optimizers import RMSprop\n",
        "from keras import backend as K\n",
        "import scipy\n",
        "import matplotlib.pyplot as plt\n",
        "from matplotlib.offsetbox import OffsetImage, AnnotationBbox, TextArea\n",
        "import pandas as pd\n",
        "import numpy as np\n",
        "import tensorflow as tf\n"
      ],
      "execution_count": 1,
      "outputs": [
        {
          "output_type": "stream",
          "text": [
            "Using TensorFlow backend.\n"
          ],
          "name": "stderr"
        },
        {
          "output_type": "display_data",
          "data": {
            "text/html": [
              "<p style=\"color: red;\">\n",
              "The default version of TensorFlow in Colab will soon switch to TensorFlow 2.x.<br>\n",
              "We recommend you <a href=\"https://www.tensorflow.org/guide/migrate\" target=\"_blank\">upgrade</a> now \n",
              "or ensure your notebook will continue to use TensorFlow 1.x via the <code>%tensorflow_version 1.x</code> magic:\n",
              "<a href=\"https://colab.research.google.com/notebooks/tensorflow_version.ipynb\" target=\"_blank\">more info</a>.</p>\n"
            ],
            "text/plain": [
              "<IPython.core.display.HTML object>"
            ]
          },
          "metadata": {
            "tags": []
          }
        }
      ]
    },
    {
      "cell_type": "code",
      "metadata": {
        "id": "9IOMuxsd1GIF",
        "colab_type": "code",
        "colab": {}
      },
      "source": [
        "#Loading the fashion MNIST dataset\n",
        "\n",
        "fashion_mnist = tf.keras.datasets.fashion_mnist\n",
        "(x_train, y_train), (x_test, y_test) = fashion_mnist.load_data()"
      ],
      "execution_count": 0,
      "outputs": []
    },
    {
      "cell_type": "code",
      "metadata": {
        "id": "NEd-SWBq1VY1",
        "colab_type": "code",
        "outputId": "6ee85fe6-6e67-489b-b6ec-441ff2fc8e27",
        "colab": {
          "base_uri": "https://localhost:8080/",
          "height": 52
        }
      },
      "source": [
        "#Normalizing the data\n",
        "\n",
        "x_train = x_train.astype('float32') / 255.\n",
        "x_test = x_test.astype('float32') / 255.\n",
        "x_train = x_train.reshape((len(x_train), np.prod(x_train.shape[1:])))\n",
        "x_test = x_test.reshape((len(x_test), np.prod(x_test.shape[1:])))\n",
        "print (x_train.shape)\n",
        "print (x_test.shape)"
      ],
      "execution_count": 3,
      "outputs": [
        {
          "output_type": "stream",
          "text": [
            "(60000, 784)\n",
            "(10000, 784)\n"
          ],
          "name": "stdout"
        }
      ]
    },
    {
      "cell_type": "code",
      "metadata": {
        "id": "zejTyW6t1Xn8",
        "colab_type": "code",
        "outputId": "519d87e9-031b-479f-c11a-1e4348e4af5d",
        "colab": {
          "base_uri": "https://localhost:8080/",
          "height": 178
        }
      },
      "source": [
        "# autoencoder model\n",
        "\n",
        "input_img = Input(shape=(784,))\n",
        "encoded1 = Dense(512, activation='elu')(input_img)\n",
        "encoded1 = BatchNormalization()(encoded1)\n",
        "encoded2 = Dense(256, activation='elu')(encoded1)\n",
        "encoded2 = BatchNormalization()(encoded2)\n",
        "encoded3 = Dense(128, activation='elu')(encoded2)\n",
        "encoded3 = BatchNormalization()(encoded3)\n",
        "encoded4 = Dense(64, activation='elu')(encoded3)\n",
        "encoded4 = BatchNormalization()(encoded4)\n",
        "encoded5 = Dense(49, activation='elu')(encoded4)\n",
        "encoded5 = BatchNormalization()(encoded5)\n",
        "\n",
        "encoder = Model(input_img, encoded5)   # contains the encoded representation of the input\n",
        "\n",
        "\n",
        "\n",
        "decoded1 = Dense(64, activation='elu')(encoded5)\n",
        "decoded1 = BatchNormalization()(decoded1)\n",
        "decoded2 = Dense(128, activation='elu')(decoded1)\n",
        "decoded2 = BatchNormalization()(decoded2)\n",
        "decoded3 = Dense(256, activation='elu')(decoded2)\n",
        "decoded3 = BatchNormalization()(decoded3)\n",
        "decoded4 = Dense(512, activation='elu')(decoded3)\n",
        "decoded4 = BatchNormalization()(decoded4)\n",
        "decoded5 = Dense(784, activation='sigmoid')(decoded4)\n"
      ],
      "execution_count": 4,
      "outputs": [
        {
          "output_type": "stream",
          "text": [
            "WARNING:tensorflow:From /usr/local/lib/python3.6/dist-packages/keras/backend/tensorflow_backend.py:66: The name tf.get_default_graph is deprecated. Please use tf.compat.v1.get_default_graph instead.\n",
            "\n",
            "WARNING:tensorflow:From /usr/local/lib/python3.6/dist-packages/keras/backend/tensorflow_backend.py:541: The name tf.placeholder is deprecated. Please use tf.compat.v1.placeholder instead.\n",
            "\n",
            "WARNING:tensorflow:From /usr/local/lib/python3.6/dist-packages/keras/backend/tensorflow_backend.py:4432: The name tf.random_uniform is deprecated. Please use tf.random.uniform instead.\n",
            "\n",
            "WARNING:tensorflow:From /usr/local/lib/python3.6/dist-packages/keras/backend/tensorflow_backend.py:148: The name tf.placeholder_with_default is deprecated. Please use tf.compat.v1.placeholder_with_default instead.\n",
            "\n"
          ],
          "name": "stdout"
        }
      ]
    },
    {
      "cell_type": "code",
      "metadata": {
        "id": "TbU0gQsmpSfB",
        "colab_type": "code",
        "colab": {
          "base_uri": "https://localhost:8080/",
          "height": 52
        },
        "outputId": "53b7c466-c065-46d4-b212-8e47952a2378"
      },
      "source": [
        "autoencoder = Model(input_img, decoded5)\n",
        "autoencoder.compile(optimizer = 'adadelta', loss='mean_squared_error')"
      ],
      "execution_count": 5,
      "outputs": [
        {
          "output_type": "stream",
          "text": [
            "WARNING:tensorflow:From /usr/local/lib/python3.6/dist-packages/keras/optimizers.py:793: The name tf.train.Optimizer is deprecated. Please use tf.compat.v1.train.Optimizer instead.\n",
            "\n"
          ],
          "name": "stdout"
        }
      ]
    },
    {
      "cell_type": "code",
      "metadata": {
        "id": "kolLgWzB6Q63",
        "colab_type": "code",
        "outputId": "7c4bd143-e599-40d6-a0f8-f4bcc8d41808",
        "colab": {
          "base_uri": "https://localhost:8080/",
          "height": 862
        }
      },
      "source": [
        "autoencoder.summary()"
      ],
      "execution_count": 6,
      "outputs": [
        {
          "output_type": "stream",
          "text": [
            "Model: \"model_2\"\n",
            "_________________________________________________________________\n",
            "Layer (type)                 Output Shape              Param #   \n",
            "=================================================================\n",
            "input_1 (InputLayer)         (None, 784)               0         \n",
            "_________________________________________________________________\n",
            "dense_1 (Dense)              (None, 512)               401920    \n",
            "_________________________________________________________________\n",
            "batch_normalization_1 (Batch (None, 512)               2048      \n",
            "_________________________________________________________________\n",
            "dense_2 (Dense)              (None, 256)               131328    \n",
            "_________________________________________________________________\n",
            "batch_normalization_2 (Batch (None, 256)               1024      \n",
            "_________________________________________________________________\n",
            "dense_3 (Dense)              (None, 128)               32896     \n",
            "_________________________________________________________________\n",
            "batch_normalization_3 (Batch (None, 128)               512       \n",
            "_________________________________________________________________\n",
            "dense_4 (Dense)              (None, 64)                8256      \n",
            "_________________________________________________________________\n",
            "batch_normalization_4 (Batch (None, 64)                256       \n",
            "_________________________________________________________________\n",
            "dense_5 (Dense)              (None, 49)                3185      \n",
            "_________________________________________________________________\n",
            "batch_normalization_5 (Batch (None, 49)                196       \n",
            "_________________________________________________________________\n",
            "dense_6 (Dense)              (None, 64)                3200      \n",
            "_________________________________________________________________\n",
            "batch_normalization_6 (Batch (None, 64)                256       \n",
            "_________________________________________________________________\n",
            "dense_7 (Dense)              (None, 128)               8320      \n",
            "_________________________________________________________________\n",
            "batch_normalization_7 (Batch (None, 128)               512       \n",
            "_________________________________________________________________\n",
            "dense_8 (Dense)              (None, 256)               33024     \n",
            "_________________________________________________________________\n",
            "batch_normalization_8 (Batch (None, 256)               1024      \n",
            "_________________________________________________________________\n",
            "dense_9 (Dense)              (None, 512)               131584    \n",
            "_________________________________________________________________\n",
            "batch_normalization_9 (Batch (None, 512)               2048      \n",
            "_________________________________________________________________\n",
            "dense_10 (Dense)             (None, 784)               402192    \n",
            "=================================================================\n",
            "Total params: 1,163,781\n",
            "Trainable params: 1,159,843\n",
            "Non-trainable params: 3,938\n",
            "_________________________________________________________________\n"
          ],
          "name": "stdout"
        }
      ]
    },
    {
      "cell_type": "code",
      "metadata": {
        "id": "CAaPSuJS-iJG",
        "colab_type": "code",
        "outputId": "97548c1e-9783-4484-a008-997fc2ed3bc7",
        "colab": {
          "base_uri": "https://localhost:8080/",
          "height": 545
        }
      },
      "source": [
        "encoder.summary()"
      ],
      "execution_count": 7,
      "outputs": [
        {
          "output_type": "stream",
          "text": [
            "Model: \"model_1\"\n",
            "_________________________________________________________________\n",
            "Layer (type)                 Output Shape              Param #   \n",
            "=================================================================\n",
            "input_1 (InputLayer)         (None, 784)               0         \n",
            "_________________________________________________________________\n",
            "dense_1 (Dense)              (None, 512)               401920    \n",
            "_________________________________________________________________\n",
            "batch_normalization_1 (Batch (None, 512)               2048      \n",
            "_________________________________________________________________\n",
            "dense_2 (Dense)              (None, 256)               131328    \n",
            "_________________________________________________________________\n",
            "batch_normalization_2 (Batch (None, 256)               1024      \n",
            "_________________________________________________________________\n",
            "dense_3 (Dense)              (None, 128)               32896     \n",
            "_________________________________________________________________\n",
            "batch_normalization_3 (Batch (None, 128)               512       \n",
            "_________________________________________________________________\n",
            "dense_4 (Dense)              (None, 64)                8256      \n",
            "_________________________________________________________________\n",
            "batch_normalization_4 (Batch (None, 64)                256       \n",
            "_________________________________________________________________\n",
            "dense_5 (Dense)              (None, 49)                3185      \n",
            "_________________________________________________________________\n",
            "batch_normalization_5 (Batch (None, 49)                196       \n",
            "=================================================================\n",
            "Total params: 581,621\n",
            "Trainable params: 579,603\n",
            "Non-trainable params: 2,018\n",
            "_________________________________________________________________\n"
          ],
          "name": "stdout"
        }
      ]
    },
    {
      "cell_type": "code",
      "metadata": {
        "colab_type": "code",
        "outputId": "1cced8ad-77ab-4f0b-d0d3-1909617d1de7",
        "id": "j1J381_bpIbt",
        "colab": {
          "base_uri": "https://localhost:8080/",
          "height": 1000
        }
      },
      "source": [
        "class LossHistory(Callback):\n",
        "    def on_train_begin(self, logs={}):\n",
        "        self.losses = []\n",
        "\n",
        "    def on_epoch_end(self, batch, logs={}):\n",
        "        self.losses.append(logs.get('loss'))\n",
        "\n",
        "history = LossHistory()\n",
        "\n",
        "\n",
        "autoencoder.fit(x_train, x_train,\n",
        "                epochs=100,\n",
        "                batch_size=256,\n",
        "                shuffle=True,\n",
        "                validation_data=(x_test, x_test),\n",
        "                callbacks = [history])"
      ],
      "execution_count": 8,
      "outputs": [
        {
          "output_type": "stream",
          "text": [
            "WARNING:tensorflow:From /usr/local/lib/python3.6/dist-packages/keras/backend/tensorflow_backend.py:1033: The name tf.assign_add is deprecated. Please use tf.compat.v1.assign_add instead.\n",
            "\n",
            "WARNING:tensorflow:From /usr/local/lib/python3.6/dist-packages/keras/backend/tensorflow_backend.py:1020: The name tf.assign is deprecated. Please use tf.compat.v1.assign instead.\n",
            "\n",
            "WARNING:tensorflow:From /usr/local/lib/python3.6/dist-packages/keras/backend/tensorflow_backend.py:3005: The name tf.Session is deprecated. Please use tf.compat.v1.Session instead.\n",
            "\n",
            "Train on 60000 samples, validate on 10000 samples\n",
            "Epoch 1/100\n",
            "WARNING:tensorflow:From /usr/local/lib/python3.6/dist-packages/keras/backend/tensorflow_backend.py:190: The name tf.get_default_session is deprecated. Please use tf.compat.v1.get_default_session instead.\n",
            "\n",
            "WARNING:tensorflow:From /usr/local/lib/python3.6/dist-packages/keras/backend/tensorflow_backend.py:197: The name tf.ConfigProto is deprecated. Please use tf.compat.v1.ConfigProto instead.\n",
            "\n",
            "WARNING:tensorflow:From /usr/local/lib/python3.6/dist-packages/keras/backend/tensorflow_backend.py:207: The name tf.global_variables is deprecated. Please use tf.compat.v1.global_variables instead.\n",
            "\n",
            "WARNING:tensorflow:From /usr/local/lib/python3.6/dist-packages/keras/backend/tensorflow_backend.py:216: The name tf.is_variable_initialized is deprecated. Please use tf.compat.v1.is_variable_initialized instead.\n",
            "\n",
            "WARNING:tensorflow:From /usr/local/lib/python3.6/dist-packages/keras/backend/tensorflow_backend.py:223: The name tf.variables_initializer is deprecated. Please use tf.compat.v1.variables_initializer instead.\n",
            "\n",
            "60000/60000 [==============================] - 16s 269us/step - loss: 0.1263 - val_loss: 0.1029\n",
            "Epoch 2/100\n",
            "60000/60000 [==============================] - 5s 84us/step - loss: 0.0842 - val_loss: 0.0642\n",
            "Epoch 3/100\n",
            "60000/60000 [==============================] - 5s 83us/step - loss: 0.0494 - val_loss: 0.0381\n",
            "Epoch 4/100\n",
            "60000/60000 [==============================] - 5s 82us/step - loss: 0.0336 - val_loss: 0.0298\n",
            "Epoch 5/100\n",
            "60000/60000 [==============================] - 5s 82us/step - loss: 0.0283 - val_loss: 0.0263\n",
            "Epoch 6/100\n",
            "60000/60000 [==============================] - 5s 81us/step - loss: 0.0258 - val_loss: 0.0245\n",
            "Epoch 7/100\n",
            "60000/60000 [==============================] - 5s 83us/step - loss: 0.0243 - val_loss: 0.0233\n",
            "Epoch 8/100\n",
            "60000/60000 [==============================] - 5s 83us/step - loss: 0.0233 - val_loss: 0.0224\n",
            "Epoch 9/100\n",
            "60000/60000 [==============================] - 5s 84us/step - loss: 0.0225 - val_loss: 0.0217\n",
            "Epoch 10/100\n",
            "60000/60000 [==============================] - 5s 83us/step - loss: 0.0218 - val_loss: 0.0210\n",
            "Epoch 11/100\n",
            "60000/60000 [==============================] - 5s 81us/step - loss: 0.0213 - val_loss: 0.0205\n",
            "Epoch 12/100\n",
            "60000/60000 [==============================] - 5s 82us/step - loss: 0.0208 - val_loss: 0.0200\n",
            "Epoch 13/100\n",
            "60000/60000 [==============================] - 5s 83us/step - loss: 0.0203 - val_loss: 0.0196\n",
            "Epoch 14/100\n",
            "60000/60000 [==============================] - 5s 82us/step - loss: 0.0199 - val_loss: 0.0192\n",
            "Epoch 15/100\n",
            "60000/60000 [==============================] - 5s 83us/step - loss: 0.0195 - val_loss: 0.0189\n",
            "Epoch 16/100\n",
            "60000/60000 [==============================] - 5s 84us/step - loss: 0.0192 - val_loss: 0.0185\n",
            "Epoch 17/100\n",
            "60000/60000 [==============================] - 5s 83us/step - loss: 0.0189 - val_loss: 0.0182\n",
            "Epoch 18/100\n",
            "60000/60000 [==============================] - 5s 84us/step - loss: 0.0186 - val_loss: 0.0179\n",
            "Epoch 19/100\n",
            "60000/60000 [==============================] - 5s 85us/step - loss: 0.0184 - val_loss: 0.0177\n",
            "Epoch 20/100\n",
            "60000/60000 [==============================] - 5s 82us/step - loss: 0.0181 - val_loss: 0.0174\n",
            "Epoch 21/100\n",
            "60000/60000 [==============================] - 5s 85us/step - loss: 0.0179 - val_loss: 0.0172\n",
            "Epoch 22/100\n",
            "60000/60000 [==============================] - 5s 84us/step - loss: 0.0176 - val_loss: 0.0170\n",
            "Epoch 23/100\n",
            "60000/60000 [==============================] - 5s 82us/step - loss: 0.0174 - val_loss: 0.0168\n",
            "Epoch 24/100\n",
            "60000/60000 [==============================] - 5s 82us/step - loss: 0.0173 - val_loss: 0.0166\n",
            "Epoch 25/100\n",
            "60000/60000 [==============================] - 5s 81us/step - loss: 0.0171 - val_loss: 0.0166\n",
            "Epoch 26/100\n",
            "60000/60000 [==============================] - 5s 84us/step - loss: 0.0169 - val_loss: 0.0162\n",
            "Epoch 27/100\n",
            "60000/60000 [==============================] - 5s 85us/step - loss: 0.0167 - val_loss: 0.0161\n",
            "Epoch 28/100\n",
            "60000/60000 [==============================] - 5s 82us/step - loss: 0.0166 - val_loss: 0.0159\n",
            "Epoch 29/100\n",
            "60000/60000 [==============================] - 5s 82us/step - loss: 0.0164 - val_loss: 0.0158\n",
            "Epoch 30/100\n",
            "60000/60000 [==============================] - 5s 82us/step - loss: 0.0163 - val_loss: 0.0156\n",
            "Epoch 31/100\n",
            "60000/60000 [==============================] - 5s 82us/step - loss: 0.0161 - val_loss: 0.0155\n",
            "Epoch 32/100\n",
            "60000/60000 [==============================] - 5s 81us/step - loss: 0.0159 - val_loss: 0.0154\n",
            "Epoch 33/100\n",
            "60000/60000 [==============================] - 5s 85us/step - loss: 0.0158 - val_loss: 0.0153\n",
            "Epoch 34/100\n",
            "60000/60000 [==============================] - 5s 85us/step - loss: 0.0157 - val_loss: 0.0152\n",
            "Epoch 35/100\n",
            "60000/60000 [==============================] - 5s 83us/step - loss: 0.0156 - val_loss: 0.0150\n",
            "Epoch 36/100\n",
            "60000/60000 [==============================] - 5s 81us/step - loss: 0.0155 - val_loss: 0.0149\n",
            "Epoch 37/100\n",
            "60000/60000 [==============================] - 5s 82us/step - loss: 0.0154 - val_loss: 0.0148\n",
            "Epoch 38/100\n",
            "60000/60000 [==============================] - 5s 81us/step - loss: 0.0153 - val_loss: 0.0150\n",
            "Epoch 39/100\n",
            "60000/60000 [==============================] - 5s 83us/step - loss: 0.0152 - val_loss: 0.0145\n",
            "Epoch 40/100\n",
            "60000/60000 [==============================] - 5s 83us/step - loss: 0.0151 - val_loss: 0.0145\n",
            "Epoch 41/100\n",
            "60000/60000 [==============================] - 5s 81us/step - loss: 0.0150 - val_loss: 0.0144\n",
            "Epoch 42/100\n",
            "60000/60000 [==============================] - 5s 82us/step - loss: 0.0149 - val_loss: 0.0143\n",
            "Epoch 43/100\n",
            "60000/60000 [==============================] - 5s 79us/step - loss: 0.0148 - val_loss: 0.0143\n",
            "Epoch 44/100\n",
            "60000/60000 [==============================] - 5s 82us/step - loss: 0.0147 - val_loss: 0.0141\n",
            "Epoch 45/100\n",
            "60000/60000 [==============================] - 5s 85us/step - loss: 0.0146 - val_loss: 0.0140\n",
            "Epoch 46/100\n",
            "60000/60000 [==============================] - 5s 84us/step - loss: 0.0145 - val_loss: 0.0142\n",
            "Epoch 47/100\n",
            "60000/60000 [==============================] - 5s 82us/step - loss: 0.0144 - val_loss: 0.0141\n",
            "Epoch 48/100\n",
            "60000/60000 [==============================] - 5s 81us/step - loss: 0.0144 - val_loss: 0.0139\n",
            "Epoch 49/100\n",
            "60000/60000 [==============================] - 5s 84us/step - loss: 0.0143 - val_loss: 0.0138\n",
            "Epoch 50/100\n",
            "60000/60000 [==============================] - 5s 84us/step - loss: 0.0143 - val_loss: 0.0137\n",
            "Epoch 51/100\n",
            "60000/60000 [==============================] - 5s 88us/step - loss: 0.0142 - val_loss: 0.0137\n",
            "Epoch 52/100\n",
            "60000/60000 [==============================] - 5s 84us/step - loss: 0.0141 - val_loss: 0.0135\n",
            "Epoch 53/100\n",
            "60000/60000 [==============================] - 5s 82us/step - loss: 0.0140 - val_loss: 0.0135\n",
            "Epoch 54/100\n",
            "60000/60000 [==============================] - 5s 83us/step - loss: 0.0140 - val_loss: 0.0134\n",
            "Epoch 55/100\n",
            "60000/60000 [==============================] - 5s 81us/step - loss: 0.0139 - val_loss: 0.0133\n",
            "Epoch 56/100\n",
            "60000/60000 [==============================] - 5s 82us/step - loss: 0.0138 - val_loss: 0.0134\n",
            "Epoch 57/100\n",
            "60000/60000 [==============================] - 5s 85us/step - loss: 0.0138 - val_loss: 0.0133\n",
            "Epoch 58/100\n",
            "60000/60000 [==============================] - 5s 83us/step - loss: 0.0137 - val_loss: 0.0132\n",
            "Epoch 59/100\n",
            "60000/60000 [==============================] - 5s 81us/step - loss: 0.0137 - val_loss: 0.0132\n",
            "Epoch 60/100\n",
            "60000/60000 [==============================] - 5s 82us/step - loss: 0.0136 - val_loss: 0.0131\n",
            "Epoch 61/100\n",
            "60000/60000 [==============================] - 5s 82us/step - loss: 0.0136 - val_loss: 0.0130\n",
            "Epoch 62/100\n",
            "60000/60000 [==============================] - 5s 82us/step - loss: 0.0135 - val_loss: 0.0131\n",
            "Epoch 63/100\n",
            "60000/60000 [==============================] - 5s 82us/step - loss: 0.0135 - val_loss: 0.0129\n",
            "Epoch 64/100\n",
            "60000/60000 [==============================] - 5s 82us/step - loss: 0.0134 - val_loss: 0.0130\n",
            "Epoch 65/100\n",
            "60000/60000 [==============================] - 5s 82us/step - loss: 0.0134 - val_loss: 0.0130\n",
            "Epoch 66/100\n",
            "60000/60000 [==============================] - 5s 82us/step - loss: 0.0133 - val_loss: 0.0129\n",
            "Epoch 67/100\n",
            "60000/60000 [==============================] - 5s 81us/step - loss: 0.0133 - val_loss: 0.0128\n",
            "Epoch 68/100\n",
            "60000/60000 [==============================] - 5s 81us/step - loss: 0.0132 - val_loss: 0.0127\n",
            "Epoch 69/100\n",
            "60000/60000 [==============================] - 5s 84us/step - loss: 0.0132 - val_loss: 0.0126\n",
            "Epoch 70/100\n",
            "60000/60000 [==============================] - 5s 83us/step - loss: 0.0131 - val_loss: 0.0127\n",
            "Epoch 71/100\n",
            "60000/60000 [==============================] - 5s 83us/step - loss: 0.0131 - val_loss: 0.0126\n",
            "Epoch 72/100\n",
            "60000/60000 [==============================] - 5s 82us/step - loss: 0.0131 - val_loss: 0.0126\n",
            "Epoch 73/100\n",
            "60000/60000 [==============================] - 5s 82us/step - loss: 0.0130 - val_loss: 0.0126\n",
            "Epoch 74/100\n",
            "60000/60000 [==============================] - 5s 81us/step - loss: 0.0130 - val_loss: 0.0126\n",
            "Epoch 75/100\n",
            "60000/60000 [==============================] - 5s 82us/step - loss: 0.0129 - val_loss: 0.0124\n",
            "Epoch 76/100\n",
            "60000/60000 [==============================] - 5s 81us/step - loss: 0.0129 - val_loss: 0.0124\n",
            "Epoch 77/100\n",
            "60000/60000 [==============================] - 5s 83us/step - loss: 0.0129 - val_loss: 0.0125\n",
            "Epoch 78/100\n",
            "60000/60000 [==============================] - 5s 84us/step - loss: 0.0128 - val_loss: 0.0125\n",
            "Epoch 79/100\n",
            "60000/60000 [==============================] - 5s 82us/step - loss: 0.0128 - val_loss: 0.0123\n",
            "Epoch 80/100\n",
            "60000/60000 [==============================] - 5s 83us/step - loss: 0.0128 - val_loss: 0.0122\n",
            "Epoch 81/100\n",
            "60000/60000 [==============================] - 5s 84us/step - loss: 0.0127 - val_loss: 0.0122\n",
            "Epoch 82/100\n",
            "60000/60000 [==============================] - 5s 83us/step - loss: 0.0127 - val_loss: 0.0122\n",
            "Epoch 83/100\n",
            "60000/60000 [==============================] - 5s 84us/step - loss: 0.0127 - val_loss: 0.0124\n",
            "Epoch 84/100\n",
            "60000/60000 [==============================] - 5s 83us/step - loss: 0.0126 - val_loss: 0.0121\n",
            "Epoch 85/100\n",
            "60000/60000 [==============================] - 5s 82us/step - loss: 0.0126 - val_loss: 0.0121\n",
            "Epoch 86/100\n",
            "60000/60000 [==============================] - 5s 82us/step - loss: 0.0125 - val_loss: 0.0120\n",
            "Epoch 87/100\n",
            "60000/60000 [==============================] - 5s 81us/step - loss: 0.0125 - val_loss: 0.0121\n",
            "Epoch 88/100\n",
            "60000/60000 [==============================] - 5s 81us/step - loss: 0.0125 - val_loss: 0.0121\n",
            "Epoch 89/100\n",
            "60000/60000 [==============================] - 5s 82us/step - loss: 0.0124 - val_loss: 0.0120\n",
            "Epoch 90/100\n",
            "60000/60000 [==============================] - 5s 83us/step - loss: 0.0124 - val_loss: 0.0121\n",
            "Epoch 91/100\n",
            "60000/60000 [==============================] - 5s 83us/step - loss: 0.0123 - val_loss: 0.0120\n",
            "Epoch 92/100\n",
            "60000/60000 [==============================] - 5s 79us/step - loss: 0.0123 - val_loss: 0.0121\n",
            "Epoch 93/100\n",
            "60000/60000 [==============================] - 5s 83us/step - loss: 0.0123 - val_loss: 0.0119\n",
            "Epoch 94/100\n",
            "60000/60000 [==============================] - 5s 82us/step - loss: 0.0123 - val_loss: 0.0118\n",
            "Epoch 95/100\n",
            "60000/60000 [==============================] - 5s 82us/step - loss: 0.0122 - val_loss: 0.0119\n",
            "Epoch 96/100\n",
            "60000/60000 [==============================] - 5s 82us/step - loss: 0.0122 - val_loss: 0.0118\n",
            "Epoch 97/100\n",
            "60000/60000 [==============================] - 5s 81us/step - loss: 0.0122 - val_loss: 0.0117\n",
            "Epoch 98/100\n",
            "60000/60000 [==============================] - 5s 81us/step - loss: 0.0122 - val_loss: 0.0118\n",
            "Epoch 99/100\n",
            "60000/60000 [==============================] - 5s 81us/step - loss: 0.0121 - val_loss: 0.0117\n",
            "Epoch 100/100\n",
            "60000/60000 [==============================] - 5s 81us/step - loss: 0.0121 - val_loss: 0.0117\n"
          ],
          "name": "stdout"
        },
        {
          "output_type": "execute_result",
          "data": {
            "text/plain": [
              "<keras.callbacks.History at 0x7f160f321f28>"
            ]
          },
          "metadata": {
            "tags": []
          },
          "execution_count": 8
        }
      ]
    },
    {
      "cell_type": "code",
      "metadata": {
        "id": "vELyIMqCgmTa",
        "colab_type": "code",
        "colab": {
          "base_uri": "https://localhost:8080/",
          "height": 297
        },
        "outputId": "5caceaad-ecbb-48ce-efaa-b51ee3cd0864"
      },
      "source": [
        "#To plot loss vs epoch\n",
        "\n",
        "plt.plot(list(range(len(history.losses))), history.losses)\n",
        "plt.xlabel('epoch')\n",
        "plt.ylabel('mean squared error')"
      ],
      "execution_count": 9,
      "outputs": [
        {
          "output_type": "execute_result",
          "data": {
            "text/plain": [
              "Text(0, 0.5, 'mean squared error')"
            ]
          },
          "metadata": {
            "tags": []
          },
          "execution_count": 9
        },
        {
          "output_type": "display_data",
          "data": {
            "image/png": "[encoded data removed]",
            "text/plain": [
              "<Figure size 432x288 with 1 Axes>"
            ]
          },
          "metadata": {
            "tags": []
          }
        }
      ]
    },
    {
      "cell_type": "code",
      "metadata": {
        "id": "PM2eD08grQkW",
        "colab_type": "code",
        "colab": {}
      },
      "source": [
        ""
      ],
      "execution_count": 0,
      "outputs": []
    },
    {
      "cell_type": "markdown",
      "metadata": {
        "id": "j30Z2ryVrRA5",
        "colab_type": "text"
      },
      "source": [
        "After training for 100 epochs, we see that the reconstruction loss for a deep autenocoder is less than that for a simple autoencoder."
      ]
    },
    {
      "cell_type": "code",
      "metadata": {
        "id": "1eu8F3DtrjGU",
        "colab_type": "code",
        "colab": {}
      },
      "source": [
        ""
      ],
      "execution_count": 0,
      "outputs": []
    },
    {
      "cell_type": "code",
      "metadata": {
        "id": "tcp0IFLz-lD4",
        "colab_type": "code",
        "colab": {}
      },
      "source": [
        "DAE_encoded_imgs_train = encoder.predict(x_train)              #contains all the encoded images of the training set\n",
        "DAE_decoded_imgs_train = autoencoder.predict(x_train)          #contains all the reconstructed images of the training set\n",
        "\n",
        "DAE_encoded_imgs_test = encoder.predict(x_test)                #contains all the encoded images of the test set\n",
        "DAE_decoded_imgs_test = autoencoder.predict(x_test)            #contains all the reconstructed images of the test set"
      ],
      "execution_count": 0,
      "outputs": []
    },
    {
      "cell_type": "code",
      "metadata": {
        "id": "p6MMIEu1-5qc",
        "colab_type": "code",
        "outputId": "aed9cae3-8420-40b6-e40c-523af3a34ab9",
        "colab": {
          "base_uri": "https://localhost:8080/",
          "height": 396
        }
      },
      "source": [
        "n = 10  \n",
        "plt.figure(figsize=(30,6))\n",
        "for i in range(n):\n",
        "\n",
        "    # display original image\n",
        "\n",
        "    ax = plt.subplot(3, n, i + 1)\n",
        "    plt.gray()\n",
        "    plt.imshow(x_train[i].reshape(28, 28))\n",
        "    \n",
        "    \n",
        "\n",
        "    # display reconstruction of the image\n",
        "\n",
        "    ax = plt.subplot(3, n, i + 1 + n)\n",
        "    plt.imshow(DAE_decoded_imgs_train[i].reshape(28, 28))\n",
        "\n",
        "    #display latent representation\n",
        "\n",
        "    ax = plt.subplot(3, n, i+1+ n*2)\n",
        "    plt.imshow(DAE_encoded_imgs_train[i].reshape(7,7))\n",
        "   \n",
        "plt.show()"
      ],
      "execution_count": 11,
      "outputs": [
        {
          "output_type": "display_data",
          "data": {
            "image/png": "[encoded data removed]",
            "text/plain": [
              "<Figure size 2160x432 with 30 Axes>"
            ]
          },
          "metadata": {
            "tags": []
          }
        }
      ]
    },
    {
      "cell_type": "code",
      "metadata": {
        "id": "D4VlwTBXGhoc",
        "colab_type": "code",
        "colab": {}
      },
      "source": [
        ""
      ],
      "execution_count": 0,
      "outputs": []
    },
    {
      "cell_type": "code",
      "metadata": {
        "id": "pFKjpnJKqTeT",
        "colab_type": "code",
        "colab": {}
      },
      "source": [
        "# Standardizing the encoded data\n",
        "\n",
        "from sklearn.preprocessing import StandardScaler\n",
        "sc = StandardScaler()\n",
        "X_train = sc.fit_transform(DAE_encoded_imgs_train)\n",
        "X_test  = sc.transform(DAE_encoded_imgs_test)"
      ],
      "execution_count": 0,
      "outputs": []
    },
    {
      "cell_type": "code",
      "metadata": {
        "id": "blw_g5JNqc5h",
        "colab_type": "code",
        "colab": {}
      },
      "source": [
        "#Clustering the data into 10 classes with the encoded data\n",
        "\n",
        "from sklearn.cluster import KMeans\n",
        "DAEkmeans = KMeans(n_clusters=10, random_state=0).fit(X_train)"
      ],
      "execution_count": 0,
      "outputs": []
    },
    {
      "cell_type": "code",
      "metadata": {
        "id": "3VYufhTaqo8Q",
        "colab_type": "code",
        "colab": {}
      },
      "source": [
        "yPredtrain = DAEkmeans.predict(X_train)\n",
        "yPredtest = DAEkmeans.predict(X_test)"
      ],
      "execution_count": 0,
      "outputs": []
    },
    {
      "cell_type": "code",
      "metadata": {
        "id": "fDr2Pp9_eESK",
        "colab_type": "code",
        "outputId": "3bf4bf1c-15ec-4043-c035-b840c6540d86",
        "colab": {
          "base_uri": "https://localhost:8080/",
          "height": 52
        }
      },
      "source": [
        "from sklearn import metrics\n",
        "print(metrics.adjusted_rand_score(y_train.reshape(60000,).tolist(), yPredtrain.tolist()))\n",
        "print(metrics.adjusted_rand_score(y_test.reshape(10000,).tolist(), yPredtest.tolist()))"
      ],
      "execution_count": 15,
      "outputs": [
        {
          "output_type": "stream",
          "text": [
            "0.35769873838160754\n",
            "0.3520414679361676\n"
          ],
          "name": "stdout"
        }
      ]
    },
    {
      "cell_type": "code",
      "metadata": {
        "id": "o-4xXLJ0gVYE",
        "colab_type": "code",
        "colab": {
          "base_uri": "https://localhost:8080/",
          "height": 52
        },
        "outputId": "e21bc722-ed6d-45e1-c658-0fee3031ec27"
      },
      "source": [
        "from sklearn.metrics import normalized_mutual_info_score\n",
        "print(normalized_mutual_info_score(y_train, yPredtrain))\n",
        "print(normalized_mutual_info_score(y_test, yPredtest))"
      ],
      "execution_count": 16,
      "outputs": [
        {
          "output_type": "stream",
          "text": [
            "0.5530968519344244\n",
            "0.5486400083586368\n"
          ],
          "name": "stdout"
        }
      ]
    },
    {
      "cell_type": "code",
      "metadata": {
        "id": "aZkwtg7ApADD",
        "colab_type": "code",
        "colab": {}
      },
      "source": [
        ""
      ],
      "execution_count": 0,
      "outputs": []
    },
    {
      "cell_type": "markdown",
      "metadata": {
        "id": "oD6L1tBzpAMs",
        "colab_type": "text"
      },
      "source": [
        "The ARI and NMI after clustering , using a deep autoencoder is higher than that of a simple autoencoder. This means that the deep autoencoder has learnt a better representation of the original image than the simple autoencoder."
      ]
    }
  ]
}