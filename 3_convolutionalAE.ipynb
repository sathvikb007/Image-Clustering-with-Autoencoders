{
  "nbformat": 4,
  "nbformat_minor": 0,
  "metadata": {
    "colab": {
      "name": "3.convolutionalAE.ipynb",
      "provenance": [],
      "collapsed_sections": [],
      "include_colab_link": true
    },
    "kernelspec": {
      "name": "python3",
      "display_name": "Python 3"
    },
    "accelerator": "GPU"
  },
  "cells": [
    {
      "cell_type": "markdown",
      "metadata": {
        "id": "view-in-github",
        "colab_type": "text"
      },
      "source": [
        "<a href=\"https://colab.research.google.com/github/sathvikb007/Image-Clustering-with-Autoencoders/blob/branch1/3_convolutionalAE.ipynb\" target=\"_parent\"><img src=\"https://colab.research.google.com/assets/colab-badge.svg\" alt=\"Open In Colab\"/></a>"
      ]
    },
    {
      "cell_type": "markdown",
      "metadata": {
        "id": "SGeYdaswtyuw",
        "colab_type": "text"
      },
      "source": [
        "# ***Convolutional Autoencoder***\n",
        "\n"
      ]
    },
    {
      "cell_type": "markdown",
      "metadata": {
        "id": "biYXIHgJpjx9",
        "colab_type": "text"
      },
      "source": [
        "![](https://miro.medium.com/max/3636/1*LSYNW5m3TN7xRX61BZhoZA.png)"
      ]
    },
    {
      "cell_type": "markdown",
      "metadata": {
        "id": "Bh7J3--zpzlT",
        "colab_type": "text"
      },
      "source": [
        "The model below emulates a convolutional autoencoder. The encoder consists of convolutions of filters 3 x 3, then max-pooling of 2 x 2. The encoded representation is a 16 x 16 image."
      ]
    },
    {
      "cell_type": "code",
      "metadata": {
        "id": "cfzWL0w8UZ2S",
        "colab_type": "code",
        "outputId": "b33a26e6-5e67-4642-ae63-7c01aba52b83",
        "colab": {
          "base_uri": "https://localhost:8080/",
          "height": 81
        }
      },
      "source": [
        "#Importing the required libraries\n",
        "\n",
        "from keras.callbacks import Callback\n",
        "from keras.layers import *\n",
        "from keras.models import Model, Sequential\n",
        "from keras.datasets import mnist\n",
        "from keras import regularizers\n",
        "from keras import optimizers\n",
        "from keras.optimizers import RMSprop\n",
        "from keras import backend as K\n",
        "import scipy\n",
        "import matplotlib.pyplot as plt\n",
        "from matplotlib.offsetbox import OffsetImage, AnnotationBbox, TextArea\n",
        "import pandas as pd\n",
        "import numpy as np\n",
        "import tensorflow as tf\n"
      ],
      "execution_count": 1,
      "outputs": [
        {
          "output_type": "stream",
          "text": [
            "Using TensorFlow backend.\n"
          ],
          "name": "stderr"
        },
        {
          "output_type": "display_data",
          "data": {
            "text/html": [
              "<p style=\"color: red;\">\n",
              "The default version of TensorFlow in Colab will soon switch to TensorFlow 2.x.<br>\n",
              "We recommend you <a href=\"https://www.tensorflow.org/guide/migrate\" target=\"_blank\">upgrade</a> now \n",
              "or ensure your notebook will continue to use TensorFlow 1.x via the <code>%tensorflow_version 1.x</code> magic:\n",
              "<a href=\"https://colab.research.google.com/notebooks/tensorflow_version.ipynb\" target=\"_blank\">more info</a>.</p>\n"
            ],
            "text/plain": [
              "<IPython.core.display.HTML object>"
            ]
          },
          "metadata": {
            "tags": []
          }
        }
      ]
    },
    {
      "cell_type": "code",
      "metadata": {
        "id": "HG8ajz9TUtzO",
        "colab_type": "code",
        "colab": {
          "base_uri": "https://localhost:8080/",
          "height": 158
        },
        "outputId": "5e821a1c-43f3-47ad-82e0-d8128cda7d89"
      },
      "source": [
        "#Loading the fashion MNIST dataset\n",
        "\n",
        "fashion_mnist = tf.keras.datasets.fashion_mnist\n",
        "(x_train, y_train), (x_test, y_test) = fashion_mnist.load_data()"
      ],
      "execution_count": 2,
      "outputs": [
        {
          "output_type": "stream",
          "text": [
            "Downloading data from https://storage.googleapis.com/tensorflow/tf-keras-datasets/train-labels-idx1-ubyte.gz\n",
            "32768/29515 [=================================] - 0s 0us/step\n",
            "Downloading data from https://storage.googleapis.com/tensorflow/tf-keras-datasets/train-images-idx3-ubyte.gz\n",
            "26427392/26421880 [==============================] - 0s 0us/step\n",
            "Downloading data from https://storage.googleapis.com/tensorflow/tf-keras-datasets/t10k-labels-idx1-ubyte.gz\n",
            "8192/5148 [===============================================] - 0s 0us/step\n",
            "Downloading data from https://storage.googleapis.com/tensorflow/tf-keras-datasets/t10k-images-idx3-ubyte.gz\n",
            "4423680/4422102 [==============================] - 0s 0us/step\n"
          ],
          "name": "stdout"
        }
      ]
    },
    {
      "cell_type": "code",
      "metadata": {
        "id": "wXPEF9SPUyE1",
        "colab_type": "code",
        "outputId": "2e4793e8-e400-4ed8-8388-7b577c65c8c0",
        "colab": {
          "base_uri": "https://localhost:8080/",
          "height": 52
        }
      },
      "source": [
        "#Normalizing the data\n",
        "\n",
        "x_train = x_train.astype('float32') / 255.\n",
        "x_test = x_test.astype('float32') / 255.\n",
        "x_train = x_train.reshape((len(x_train), np.prod(x_train.shape[1:])))\n",
        "x_test = x_test.reshape((len(x_test), np.prod(x_test.shape[1:])))\n",
        "print (x_train.shape)\n",
        "print (x_test.shape)"
      ],
      "execution_count": 3,
      "outputs": [
        {
          "output_type": "stream",
          "text": [
            "(60000, 784)\n",
            "(10000, 784)\n"
          ],
          "name": "stdout"
        }
      ]
    },
    {
      "cell_type": "code",
      "metadata": {
        "id": "jorYj9veV69D",
        "colab_type": "code",
        "outputId": "dc57908e-f61b-4219-ca5e-bc7956ab6a35",
        "colab": {
          "base_uri": "https://localhost:8080/",
          "height": 52
        }
      },
      "source": [
        "x_train = x_train.reshape(60000,28,28,1)\n",
        "x_test = x_test.reshape(10000,28,28,1)\n",
        "print(x_train.shape)\n",
        "print(x_test.shape)"
      ],
      "execution_count": 4,
      "outputs": [
        {
          "output_type": "stream",
          "text": [
            "(60000, 28, 28, 1)\n",
            "(10000, 28, 28, 1)\n"
          ],
          "name": "stdout"
        }
      ]
    },
    {
      "cell_type": "code",
      "metadata": {
        "id": "-28Wf1xDVOdr",
        "colab_type": "code",
        "outputId": "34a76915-94f4-4475-f730-b2a166f579d6",
        "colab": {
          "base_uri": "https://localhost:8080/",
          "height": 495
        }
      },
      "source": [
        "#autoencoder model\n",
        "\n",
        "input_img = Input(shape=(28, 28, 1))  \n",
        "\n",
        "x = Conv2D(64, (3, 3), activation='relu', padding='same')(input_img)\n",
        "x = BatchNormalization()(x)\n",
        "x = MaxPooling2D((2, 2), padding='same')(x)\n",
        "x = Conv2D(32, (3, 3), activation='relu', padding='same')(x)\n",
        "x = BatchNormalization()(x)\n",
        "x = MaxPooling2D((2, 2), padding='same')(x)\n",
        "x = Conv2D(16, (3, 3), activation='relu', padding='same')(x)\n",
        "x = BatchNormalization()(x)\n",
        "encoded = MaxPooling2D((2, 2), padding='same')(x)\n",
        "\n",
        "# at this point the representation is (4, 4, 16) dimensional\n",
        "\n",
        "x = Conv2D(16, (3, 3), activation='relu', padding='same')(encoded)\n",
        "x = BatchNormalization()(x)\n",
        "x = UpSampling2D((2, 2))(x)\n",
        "x = Conv2D(32, (3, 3), activation='relu', padding='same')(x)\n",
        "x = BatchNormalization()(x)\n",
        "x = UpSampling2D((2, 2))(x)\n",
        "x = Conv2D(64, (3, 3), activation='relu')(x)\n",
        "x = BatchNormalization()(x)\n",
        "x = UpSampling2D((2, 2))(x)\n",
        "decoded = Conv2D(1, (3, 3), activation='sigmoid', padding='same')(x)"
      ],
      "execution_count": 5,
      "outputs": [
        {
          "output_type": "stream",
          "text": [
            "WARNING:tensorflow:From /usr/local/lib/python3.6/dist-packages/keras/backend/tensorflow_backend.py:66: The name tf.get_default_graph is deprecated. Please use tf.compat.v1.get_default_graph instead.\n",
            "\n",
            "WARNING:tensorflow:From /usr/local/lib/python3.6/dist-packages/keras/backend/tensorflow_backend.py:541: The name tf.placeholder is deprecated. Please use tf.compat.v1.placeholder instead.\n",
            "\n",
            "WARNING:tensorflow:From /usr/local/lib/python3.6/dist-packages/keras/backend/tensorflow_backend.py:4432: The name tf.random_uniform is deprecated. Please use tf.random.uniform instead.\n",
            "\n",
            "WARNING:tensorflow:From /usr/local/lib/python3.6/dist-packages/keras/backend/tensorflow_backend.py:190: The name tf.get_default_session is deprecated. Please use tf.compat.v1.get_default_session instead.\n",
            "\n",
            "WARNING:tensorflow:From /usr/local/lib/python3.6/dist-packages/keras/backend/tensorflow_backend.py:197: The name tf.ConfigProto is deprecated. Please use tf.compat.v1.ConfigProto instead.\n",
            "\n",
            "WARNING:tensorflow:From /usr/local/lib/python3.6/dist-packages/keras/backend/tensorflow_backend.py:203: The name tf.Session is deprecated. Please use tf.compat.v1.Session instead.\n",
            "\n",
            "WARNING:tensorflow:From /usr/local/lib/python3.6/dist-packages/keras/backend/tensorflow_backend.py:207: The name tf.global_variables is deprecated. Please use tf.compat.v1.global_variables instead.\n",
            "\n",
            "WARNING:tensorflow:From /usr/local/lib/python3.6/dist-packages/keras/backend/tensorflow_backend.py:216: The name tf.is_variable_initialized is deprecated. Please use tf.compat.v1.is_variable_initialized instead.\n",
            "\n",
            "WARNING:tensorflow:From /usr/local/lib/python3.6/dist-packages/keras/backend/tensorflow_backend.py:223: The name tf.variables_initializer is deprecated. Please use tf.compat.v1.variables_initializer instead.\n",
            "\n",
            "WARNING:tensorflow:From /usr/local/lib/python3.6/dist-packages/keras/backend/tensorflow_backend.py:2041: The name tf.nn.fused_batch_norm is deprecated. Please use tf.compat.v1.nn.fused_batch_norm instead.\n",
            "\n",
            "WARNING:tensorflow:From /usr/local/lib/python3.6/dist-packages/keras/backend/tensorflow_backend.py:148: The name tf.placeholder_with_default is deprecated. Please use tf.compat.v1.placeholder_with_default instead.\n",
            "\n",
            "WARNING:tensorflow:From /usr/local/lib/python3.6/dist-packages/keras/backend/tensorflow_backend.py:4267: The name tf.nn.max_pool is deprecated. Please use tf.nn.max_pool2d instead.\n",
            "\n",
            "WARNING:tensorflow:From /usr/local/lib/python3.6/dist-packages/keras/backend/tensorflow_backend.py:2239: The name tf.image.resize_nearest_neighbor is deprecated. Please use tf.compat.v1.image.resize_nearest_neighbor instead.\n",
            "\n"
          ],
          "name": "stdout"
        }
      ]
    },
    {
      "cell_type": "code",
      "metadata": {
        "id": "1h-Shs9bVTBo",
        "colab_type": "code",
        "colab": {
          "base_uri": "https://localhost:8080/",
          "height": 52
        },
        "outputId": "b22887a1-87ce-41f3-9ee9-fdb9d4bc9928"
      },
      "source": [
        "autoencoder = Model(input_img, decoded)\n",
        "autoencoder.compile(optimizer='adadelta', loss='mean_squared_error')"
      ],
      "execution_count": 6,
      "outputs": [
        {
          "output_type": "stream",
          "text": [
            "WARNING:tensorflow:From /usr/local/lib/python3.6/dist-packages/keras/optimizers.py:793: The name tf.train.Optimizer is deprecated. Please use tf.compat.v1.train.Optimizer instead.\n",
            "\n"
          ],
          "name": "stdout"
        }
      ]
    },
    {
      "cell_type": "code",
      "metadata": {
        "id": "seIVejd1Vurx",
        "colab_type": "code",
        "outputId": "c4c76080-eae9-4452-a284-31f8e9786c66",
        "colab": {
          "base_uri": "https://localhost:8080/",
          "height": 862
        }
      },
      "source": [
        "autoencoder.summary()"
      ],
      "execution_count": 7,
      "outputs": [
        {
          "output_type": "stream",
          "text": [
            "Model: \"model_1\"\n",
            "_________________________________________________________________\n",
            "Layer (type)                 Output Shape              Param #   \n",
            "=================================================================\n",
            "input_1 (InputLayer)         (None, 28, 28, 1)         0         \n",
            "_________________________________________________________________\n",
            "conv2d_1 (Conv2D)            (None, 28, 28, 64)        640       \n",
            "_________________________________________________________________\n",
            "batch_normalization_1 (Batch (None, 28, 28, 64)        256       \n",
            "_________________________________________________________________\n",
            "max_pooling2d_1 (MaxPooling2 (None, 14, 14, 64)        0         \n",
            "_________________________________________________________________\n",
            "conv2d_2 (Conv2D)            (None, 14, 14, 32)        18464     \n",
            "_________________________________________________________________\n",
            "batch_normalization_2 (Batch (None, 14, 14, 32)        128       \n",
            "_________________________________________________________________\n",
            "max_pooling2d_2 (MaxPooling2 (None, 7, 7, 32)          0         \n",
            "_________________________________________________________________\n",
            "conv2d_3 (Conv2D)            (None, 7, 7, 16)          4624      \n",
            "_________________________________________________________________\n",
            "batch_normalization_3 (Batch (None, 7, 7, 16)          64        \n",
            "_________________________________________________________________\n",
            "max_pooling2d_3 (MaxPooling2 (None, 4, 4, 16)          0         \n",
            "_________________________________________________________________\n",
            "conv2d_4 (Conv2D)            (None, 4, 4, 16)          2320      \n",
            "_________________________________________________________________\n",
            "batch_normalization_4 (Batch (None, 4, 4, 16)          64        \n",
            "_________________________________________________________________\n",
            "up_sampling2d_1 (UpSampling2 (None, 8, 8, 16)          0         \n",
            "_________________________________________________________________\n",
            "conv2d_5 (Conv2D)            (None, 8, 8, 32)          4640      \n",
            "_________________________________________________________________\n",
            "batch_normalization_5 (Batch (None, 8, 8, 32)          128       \n",
            "_________________________________________________________________\n",
            "up_sampling2d_2 (UpSampling2 (None, 16, 16, 32)        0         \n",
            "_________________________________________________________________\n",
            "conv2d_6 (Conv2D)            (None, 14, 14, 64)        18496     \n",
            "_________________________________________________________________\n",
            "batch_normalization_6 (Batch (None, 14, 14, 64)        256       \n",
            "_________________________________________________________________\n",
            "up_sampling2d_3 (UpSampling2 (None, 28, 28, 64)        0         \n",
            "_________________________________________________________________\n",
            "conv2d_7 (Conv2D)            (None, 28, 28, 1)         577       \n",
            "=================================================================\n",
            "Total params: 50,657\n",
            "Trainable params: 50,209\n",
            "Non-trainable params: 448\n",
            "_________________________________________________________________\n"
          ],
          "name": "stdout"
        }
      ]
    },
    {
      "cell_type": "code",
      "metadata": {
        "id": "5dGY4rtfaRl1",
        "colab_type": "code",
        "colab": {}
      },
      "source": [
        "#encoder model\n",
        "\n",
        "encoder = Model(input_img, encoded)"
      ],
      "execution_count": 0,
      "outputs": []
    },
    {
      "cell_type": "code",
      "metadata": {
        "id": "KTa2oD91GzDQ",
        "colab_type": "code",
        "outputId": "25ef3dad-718a-4c20-81cd-7a4d688b97e1",
        "colab": {
          "base_uri": "https://localhost:8080/",
          "height": 510
        }
      },
      "source": [
        "encoder.summary()"
      ],
      "execution_count": 9,
      "outputs": [
        {
          "output_type": "stream",
          "text": [
            "Model: \"model_2\"\n",
            "_________________________________________________________________\n",
            "Layer (type)                 Output Shape              Param #   \n",
            "=================================================================\n",
            "input_1 (InputLayer)         (None, 28, 28, 1)         0         \n",
            "_________________________________________________________________\n",
            "conv2d_1 (Conv2D)            (None, 28, 28, 64)        640       \n",
            "_________________________________________________________________\n",
            "batch_normalization_1 (Batch (None, 28, 28, 64)        256       \n",
            "_________________________________________________________________\n",
            "max_pooling2d_1 (MaxPooling2 (None, 14, 14, 64)        0         \n",
            "_________________________________________________________________\n",
            "conv2d_2 (Conv2D)            (None, 14, 14, 32)        18464     \n",
            "_________________________________________________________________\n",
            "batch_normalization_2 (Batch (None, 14, 14, 32)        128       \n",
            "_________________________________________________________________\n",
            "max_pooling2d_2 (MaxPooling2 (None, 7, 7, 32)          0         \n",
            "_________________________________________________________________\n",
            "conv2d_3 (Conv2D)            (None, 7, 7, 16)          4624      \n",
            "_________________________________________________________________\n",
            "batch_normalization_3 (Batch (None, 7, 7, 16)          64        \n",
            "_________________________________________________________________\n",
            "max_pooling2d_3 (MaxPooling2 (None, 4, 4, 16)          0         \n",
            "=================================================================\n",
            "Total params: 24,176\n",
            "Trainable params: 23,952\n",
            "Non-trainable params: 224\n",
            "_________________________________________________________________\n"
          ],
          "name": "stdout"
        }
      ]
    },
    {
      "cell_type": "code",
      "metadata": {
        "id": "JpI6cTeaVbmo",
        "colab_type": "code",
        "outputId": "89b1af54-7862-4e1f-c985-ea03c42165e1",
        "colab": {
          "base_uri": "https://localhost:8080/",
          "height": 1000
        }
      },
      "source": [
        "class LossHistory(Callback):\n",
        "    def on_train_begin(self, logs={}):\n",
        "        self.losses = []\n",
        "\n",
        "    def on_epoch_end(self, batch, logs={}):\n",
        "        self.losses.append(logs.get('loss'))\n",
        "\n",
        "history = LossHistory()\n",
        "\n",
        "autoencoder.fit(x_train, x_train,\n",
        "                epochs=80,\n",
        "                batch_size=256,\n",
        "                shuffle=True,\n",
        "                validation_data=(x_test, x_test),\n",
        "                callbacks = [history])"
      ],
      "execution_count": 10,
      "outputs": [
        {
          "output_type": "stream",
          "text": [
            "WARNING:tensorflow:From /usr/local/lib/python3.6/dist-packages/keras/backend/tensorflow_backend.py:1033: The name tf.assign_add is deprecated. Please use tf.compat.v1.assign_add instead.\n",
            "\n",
            "WARNING:tensorflow:From /usr/local/lib/python3.6/dist-packages/keras/backend/tensorflow_backend.py:1020: The name tf.assign is deprecated. Please use tf.compat.v1.assign instead.\n",
            "\n",
            "Train on 60000 samples, validate on 10000 samples\n",
            "Epoch 1/80\n",
            "60000/60000 [==============================] - 14s 237us/step - loss: 0.0388 - val_loss: 0.0263\n",
            "Epoch 2/80\n",
            "60000/60000 [==============================] - 6s 98us/step - loss: 0.0234 - val_loss: 0.0210\n",
            "Epoch 3/80\n",
            "60000/60000 [==============================] - 6s 100us/step - loss: 0.0196 - val_loss: 0.0185\n",
            "Epoch 4/80\n",
            "60000/60000 [==============================] - 6s 100us/step - loss: 0.0175 - val_loss: 0.0182\n",
            "Epoch 5/80\n",
            "60000/60000 [==============================] - 6s 99us/step - loss: 0.0160 - val_loss: 0.0171\n",
            "Epoch 6/80\n",
            "60000/60000 [==============================] - 6s 99us/step - loss: 0.0153 - val_loss: 0.0148\n",
            "Epoch 7/80\n",
            "60000/60000 [==============================] - 6s 100us/step - loss: 0.0146 - val_loss: 0.0142\n",
            "Epoch 8/80\n",
            "60000/60000 [==============================] - 6s 100us/step - loss: 0.0141 - val_loss: 0.0146\n",
            "Epoch 9/80\n",
            "60000/60000 [==============================] - 6s 100us/step - loss: 0.0137 - val_loss: 0.0147\n",
            "Epoch 10/80\n",
            "60000/60000 [==============================] - 6s 99us/step - loss: 0.0133 - val_loss: 0.0131\n",
            "Epoch 11/80\n",
            "60000/60000 [==============================] - 6s 100us/step - loss: 0.0130 - val_loss: 0.0127\n",
            "Epoch 12/80\n",
            "60000/60000 [==============================] - 6s 100us/step - loss: 0.0127 - val_loss: 0.0124\n",
            "Epoch 13/80\n",
            "60000/60000 [==============================] - 6s 101us/step - loss: 0.0125 - val_loss: 0.0120\n",
            "Epoch 14/80\n",
            "60000/60000 [==============================] - 6s 100us/step - loss: 0.0122 - val_loss: 0.0120\n",
            "Epoch 15/80\n",
            "60000/60000 [==============================] - 6s 101us/step - loss: 0.0120 - val_loss: 0.0134\n",
            "Epoch 16/80\n",
            "60000/60000 [==============================] - 6s 101us/step - loss: 0.0118 - val_loss: 0.0117\n",
            "Epoch 17/80\n",
            "60000/60000 [==============================] - 6s 100us/step - loss: 0.0116 - val_loss: 0.0115\n",
            "Epoch 18/80\n",
            "60000/60000 [==============================] - 6s 100us/step - loss: 0.0115 - val_loss: 0.0115\n",
            "Epoch 19/80\n",
            "60000/60000 [==============================] - 6s 100us/step - loss: 0.0114 - val_loss: 0.0111\n",
            "Epoch 20/80\n",
            "60000/60000 [==============================] - 6s 100us/step - loss: 0.0112 - val_loss: 0.0121\n",
            "Epoch 21/80\n",
            "60000/60000 [==============================] - 6s 100us/step - loss: 0.0111 - val_loss: 0.0114\n",
            "Epoch 22/80\n",
            "60000/60000 [==============================] - 6s 104us/step - loss: 0.0109 - val_loss: 0.0110\n",
            "Epoch 23/80\n",
            "60000/60000 [==============================] - 6s 104us/step - loss: 0.0108 - val_loss: 0.0110\n",
            "Epoch 24/80\n",
            "60000/60000 [==============================] - 6s 103us/step - loss: 0.0108 - val_loss: 0.0108\n",
            "Epoch 25/80\n",
            "60000/60000 [==============================] - 6s 102us/step - loss: 0.0107 - val_loss: 0.0104\n",
            "Epoch 26/80\n",
            "60000/60000 [==============================] - 6s 101us/step - loss: 0.0105 - val_loss: 0.0106\n",
            "Epoch 27/80\n",
            "60000/60000 [==============================] - 6s 103us/step - loss: 0.0105 - val_loss: 0.0103\n",
            "Epoch 28/80\n",
            "60000/60000 [==============================] - 6s 102us/step - loss: 0.0103 - val_loss: 0.0102\n",
            "Epoch 29/80\n",
            "60000/60000 [==============================] - 6s 101us/step - loss: 0.0103 - val_loss: 0.0108\n",
            "Epoch 30/80\n",
            "60000/60000 [==============================] - 6s 100us/step - loss: 0.0102 - val_loss: 0.0111\n",
            "Epoch 31/80\n",
            "60000/60000 [==============================] - 6s 100us/step - loss: 0.0101 - val_loss: 0.0105\n",
            "Epoch 32/80\n",
            "60000/60000 [==============================] - 6s 101us/step - loss: 0.0101 - val_loss: 0.0109\n",
            "Epoch 33/80\n",
            "60000/60000 [==============================] - 6s 102us/step - loss: 0.0100 - val_loss: 0.0099\n",
            "Epoch 34/80\n",
            "60000/60000 [==============================] - 6s 102us/step - loss: 0.0100 - val_loss: 0.0098\n",
            "Epoch 35/80\n",
            "60000/60000 [==============================] - 6s 102us/step - loss: 0.0099 - val_loss: 0.0097\n",
            "Epoch 36/80\n",
            "60000/60000 [==============================] - 6s 100us/step - loss: 0.0098 - val_loss: 0.0099\n",
            "Epoch 37/80\n",
            "60000/60000 [==============================] - 6s 103us/step - loss: 0.0097 - val_loss: 0.0096\n",
            "Epoch 38/80\n",
            "60000/60000 [==============================] - 6s 100us/step - loss: 0.0097 - val_loss: 0.0097\n",
            "Epoch 39/80\n",
            "60000/60000 [==============================] - 6s 100us/step - loss: 0.0096 - val_loss: 0.0095\n",
            "Epoch 40/80\n",
            "60000/60000 [==============================] - 6s 100us/step - loss: 0.0096 - val_loss: 0.0096\n",
            "Epoch 41/80\n",
            "60000/60000 [==============================] - 6s 100us/step - loss: 0.0096 - val_loss: 0.0097\n",
            "Epoch 42/80\n",
            "60000/60000 [==============================] - 6s 102us/step - loss: 0.0095 - val_loss: 0.0093\n",
            "Epoch 43/80\n",
            "60000/60000 [==============================] - 6s 102us/step - loss: 0.0094 - val_loss: 0.0094\n",
            "Epoch 44/80\n",
            "60000/60000 [==============================] - 6s 101us/step - loss: 0.0094 - val_loss: 0.0102\n",
            "Epoch 45/80\n",
            "60000/60000 [==============================] - 6s 101us/step - loss: 0.0094 - val_loss: 0.0100\n",
            "Epoch 46/80\n",
            "60000/60000 [==============================] - 6s 101us/step - loss: 0.0093 - val_loss: 0.0100\n",
            "Epoch 47/80\n",
            "60000/60000 [==============================] - 6s 102us/step - loss: 0.0092 - val_loss: 0.0112\n",
            "Epoch 48/80\n",
            "60000/60000 [==============================] - 6s 100us/step - loss: 0.0091 - val_loss: 0.0090\n",
            "Epoch 49/80\n",
            "60000/60000 [==============================] - 6s 102us/step - loss: 0.0092 - val_loss: 0.0095\n",
            "Epoch 50/80\n",
            "60000/60000 [==============================] - 6s 101us/step - loss: 0.0091 - val_loss: 0.0090\n",
            "Epoch 51/80\n",
            "60000/60000 [==============================] - 6s 99us/step - loss: 0.0091 - val_loss: 0.0093\n",
            "Epoch 52/80\n",
            "60000/60000 [==============================] - 6s 102us/step - loss: 0.0090 - val_loss: 0.0090\n",
            "Epoch 53/80\n",
            "60000/60000 [==============================] - 6s 101us/step - loss: 0.0090 - val_loss: 0.0090\n",
            "Epoch 54/80\n",
            "60000/60000 [==============================] - 6s 101us/step - loss: 0.0089 - val_loss: 0.0091\n",
            "Epoch 55/80\n",
            "60000/60000 [==============================] - 6s 101us/step - loss: 0.0089 - val_loss: 0.0091\n",
            "Epoch 56/80\n",
            "60000/60000 [==============================] - 6s 100us/step - loss: 0.0089 - val_loss: 0.0089\n",
            "Epoch 57/80\n",
            "60000/60000 [==============================] - 6s 101us/step - loss: 0.0089 - val_loss: 0.0094\n",
            "Epoch 58/80\n",
            "60000/60000 [==============================] - 6s 100us/step - loss: 0.0088 - val_loss: 0.0088\n",
            "Epoch 59/80\n",
            "60000/60000 [==============================] - 6s 101us/step - loss: 0.0088 - val_loss: 0.0087\n",
            "Epoch 60/80\n",
            "60000/60000 [==============================] - 6s 101us/step - loss: 0.0088 - val_loss: 0.0087\n",
            "Epoch 61/80\n",
            "60000/60000 [==============================] - 6s 101us/step - loss: 0.0087 - val_loss: 0.0097\n",
            "Epoch 62/80\n",
            "60000/60000 [==============================] - 6s 102us/step - loss: 0.0087 - val_loss: 0.0086\n",
            "Epoch 63/80\n",
            "60000/60000 [==============================] - 6s 101us/step - loss: 0.0087 - val_loss: 0.0094\n",
            "Epoch 64/80\n",
            "60000/60000 [==============================] - 6s 100us/step - loss: 0.0086 - val_loss: 0.0089\n",
            "Epoch 65/80\n",
            "60000/60000 [==============================] - 6s 102us/step - loss: 0.0086 - val_loss: 0.0086\n",
            "Epoch 66/80\n",
            "60000/60000 [==============================] - 6s 101us/step - loss: 0.0086 - val_loss: 0.0085\n",
            "Epoch 67/80\n",
            "60000/60000 [==============================] - 6s 101us/step - loss: 0.0086 - val_loss: 0.0093\n",
            "Epoch 68/80\n",
            "60000/60000 [==============================] - 6s 101us/step - loss: 0.0086 - val_loss: 0.0084\n",
            "Epoch 69/80\n",
            "60000/60000 [==============================] - 6s 100us/step - loss: 0.0085 - val_loss: 0.0084\n",
            "Epoch 70/80\n",
            "60000/60000 [==============================] - 6s 100us/step - loss: 0.0085 - val_loss: 0.0087\n",
            "Epoch 71/80\n",
            "60000/60000 [==============================] - 6s 100us/step - loss: 0.0085 - val_loss: 0.0083\n",
            "Epoch 72/80\n",
            "60000/60000 [==============================] - 6s 102us/step - loss: 0.0084 - val_loss: 0.0085\n",
            "Epoch 73/80\n",
            "60000/60000 [==============================] - 6s 101us/step - loss: 0.0084 - val_loss: 0.0083\n",
            "Epoch 74/80\n",
            "60000/60000 [==============================] - 6s 101us/step - loss: 0.0084 - val_loss: 0.0084\n",
            "Epoch 75/80\n",
            "60000/60000 [==============================] - 6s 103us/step - loss: 0.0083 - val_loss: 0.0090\n",
            "Epoch 76/80\n",
            "60000/60000 [==============================] - 6s 103us/step - loss: 0.0083 - val_loss: 0.0083\n",
            "Epoch 77/80\n",
            "60000/60000 [==============================] - 6s 102us/step - loss: 0.0083 - val_loss: 0.0085\n",
            "Epoch 78/80\n",
            "60000/60000 [==============================] - 6s 104us/step - loss: 0.0083 - val_loss: 0.0083\n",
            "Epoch 79/80\n",
            "60000/60000 [==============================] - 6s 100us/step - loss: 0.0083 - val_loss: 0.0083\n",
            "Epoch 80/80\n",
            "60000/60000 [==============================] - 6s 100us/step - loss: 0.0083 - val_loss: 0.0083\n"
          ],
          "name": "stdout"
        },
        {
          "output_type": "execute_result",
          "data": {
            "text/plain": [
              "<keras.callbacks.History at 0x7f3e3e70bda0>"
            ]
          },
          "metadata": {
            "tags": []
          },
          "execution_count": 10
        }
      ]
    },
    {
      "cell_type": "code",
      "metadata": {
        "id": "s2hRtcbOkXmi",
        "colab_type": "code",
        "colab": {}
      },
      "source": [
        ""
      ],
      "execution_count": 0,
      "outputs": []
    },
    {
      "cell_type": "markdown",
      "metadata": {
        "id": "yf2_47MdoVOG",
        "colab_type": "text"
      },
      "source": [
        "Among all the autoencoders, the convolutional autoencoder has the least reconstruction loss"
      ]
    },
    {
      "cell_type": "code",
      "metadata": {
        "id": "a_ZBs2CgoVXo",
        "colab_type": "code",
        "colab": {}
      },
      "source": [
        ""
      ],
      "execution_count": 0,
      "outputs": []
    },
    {
      "cell_type": "code",
      "metadata": {
        "id": "ziShdVRXkXuO",
        "colab_type": "code",
        "colab": {
          "base_uri": "https://localhost:8080/",
          "height": 299
        },
        "outputId": "195de92a-2ed0-49c9-8ea2-661cfec4644b"
      },
      "source": [
        "#To plot loss vs epoch\n",
        "\n",
        "plt.plot(list(range(len(history.losses))), history.losses)\n",
        "plt.xlabel('epoch')\n",
        "plt.ylabel('mean squared error')"
      ],
      "execution_count": 11,
      "outputs": [
        {
          "output_type": "execute_result",
          "data": {
            "text/plain": [
              "Text(0, 0.5, 'mean squared error')"
            ]
          },
          "metadata": {
            "tags": []
          },
          "execution_count": 11
        },
        {
          "output_type": "display_data",
          "data": {
            "image/png": "[encoded data removed]",
            "text/plain": [
              "<Figure size 432x288 with 1 Axes>"
            ]
          },
          "metadata": {
            "tags": []
          }
        }
      ]
    },
    {
      "cell_type": "code",
      "metadata": {
        "id": "vHakwyJRdOyG",
        "colab_type": "code",
        "colab": {}
      },
      "source": [
        "CAE_encoded_imgs_train = encoder.predict(x_train)\n",
        "CAE_decoded_imgs_train = autoencoder.predict(x_train)\n",
        "\n",
        "CAE_encoded_imgs_test = encoder.predict(x_test)\n",
        "CAE_decoded_imgs_test = autoencoder.predict(x_test)"
      ],
      "execution_count": 0,
      "outputs": []
    },
    {
      "cell_type": "code",
      "metadata": {
        "id": "sc7sLf53dT2G",
        "colab_type": "code",
        "outputId": "a406ca82-85e8-458f-c0d6-c2ac572fd781",
        "colab": {
          "base_uri": "https://localhost:8080/",
          "height": 396
        }
      },
      "source": [
        "n = 10  \n",
        "plt.figure(figsize=(30,6))\n",
        "for i in range(n):\n",
        "    # display original\n",
        "    ax = plt.subplot(3, n, i + 1)\n",
        "    plt.gray()\n",
        "    plt.imshow(x_train[i].reshape(28, 28))\n",
        "    \n",
        "    \n",
        "\n",
        "    # display reconstruction\n",
        "    ax = plt.subplot(3, n, i + 1 + n)\n",
        "    plt.imshow(CAE_decoded_imgs_train[i].reshape(28, 28))\n",
        "\n",
        "    #display latent representation\n",
        "    ax = plt.subplot(3, n, i+1+ n*2)\n",
        "    plt.imshow(CAE_encoded_imgs_train[i].reshape(16,16))\n",
        "   \n",
        "plt.show()"
      ],
      "execution_count": 13,
      "outputs": [
        {
          "output_type": "display_data",
          "data": {
            "image/png": "[encoded data removed]",
            "text/plain": [
              "<Figure size 2160x432 with 30 Axes>"
            ]
          },
          "metadata": {
            "tags": []
          }
        }
      ]
    },
    {
      "cell_type": "code",
      "metadata": {
        "id": "wIm6gy4SXijN",
        "colab_type": "code",
        "colab": {}
      },
      "source": [
        "CAE_encoded_imgs_train = CAE_encoded_imgs_train.reshape(60000,256)\n",
        "CAE_encoded_imgs_test = CAE_encoded_imgs_test.reshape(10000,256)"
      ],
      "execution_count": 0,
      "outputs": []
    },
    {
      "cell_type": "code",
      "metadata": {
        "id": "PUG1NBHZde1b",
        "colab_type": "code",
        "outputId": "d14973c6-8b4b-4589-ff09-37a8dfe45e82",
        "colab": {
          "base_uri": "https://localhost:8080/",
          "height": 52
        }
      },
      "source": [
        "print(CAE_encoded_imgs_train.shape)\n",
        "print(CAE_encoded_imgs_test.shape)"
      ],
      "execution_count": 15,
      "outputs": [
        {
          "output_type": "stream",
          "text": [
            "(60000, 256)\n",
            "(10000, 256)\n"
          ],
          "name": "stdout"
        }
      ]
    },
    {
      "cell_type": "code",
      "metadata": {
        "id": "fVd1RIMSXJkd",
        "colab_type": "code",
        "colab": {}
      },
      "source": [
        "#To standardize the data\n",
        "\n",
        "from sklearn.preprocessing import StandardScaler\n",
        "sc = StandardScaler()\n",
        "X_train = sc.fit_transform(CAE_encoded_imgs_train)\n",
        "X_test  = sc.transform(CAE_encoded_imgs_test)"
      ],
      "execution_count": 0,
      "outputs": []
    },
    {
      "cell_type": "code",
      "metadata": {
        "id": "WSzQrqGzYArF",
        "colab_type": "code",
        "colab": {}
      },
      "source": [
        "#Clustering the data into 10 classes with the encoded data\n",
        "\n",
        "from sklearn.cluster import KMeans\n",
        "CAEkmeans = KMeans(n_clusters=10, random_state=0).fit(X_train)"
      ],
      "execution_count": 0,
      "outputs": []
    },
    {
      "cell_type": "code",
      "metadata": {
        "id": "gx78bhgLYFer",
        "colab_type": "code",
        "colab": {}
      },
      "source": [
        "yPredtrain = CAEkmeans.predict(X_train)\n",
        "yPredtest = CAEkmeans.predict(X_test)"
      ],
      "execution_count": 0,
      "outputs": []
    },
    {
      "cell_type": "code",
      "metadata": {
        "id": "bOwlERCuvVX9",
        "colab_type": "code",
        "colab": {
          "base_uri": "https://localhost:8080/",
          "height": 52
        },
        "outputId": "7794d498-dbc7-4305-e1da-c28527452a54"
      },
      "source": [
        "from sklearn import metrics\n",
        "print(metrics.adjusted_rand_score(y_train.reshape(60000,).tolist(), yPredtrain.tolist()))\n",
        "print(metrics.adjusted_rand_score(y_test.reshape(10000,).tolist(), yPredtest.tolist()))"
      ],
      "execution_count": 31,
      "outputs": [
        {
          "output_type": "stream",
          "text": [
            "0.36916842373039166\n",
            "0.3655434775066856\n"
          ],
          "name": "stdout"
        }
      ]
    },
    {
      "cell_type": "code",
      "metadata": {
        "id": "RGlLycUISuw2",
        "colab_type": "code",
        "colab": {
          "base_uri": "https://localhost:8080/",
          "height": 52
        },
        "outputId": "5c6dac0d-89af-4914-882e-90a5cab78784"
      },
      "source": [
        "print(metrics.normalized_mutual_info_score(y_train, yPredtrain))\n",
        "print(metrics.normalized_mutual_info_score(y_test, yPredtest))"
      ],
      "execution_count": 33,
      "outputs": [
        {
          "output_type": "stream",
          "text": [
            "0.5601708814388936\n",
            "0.5582457077064659\n"
          ],
          "name": "stdout"
        }
      ]
    },
    {
      "cell_type": "code",
      "metadata": {
        "id": "-ra8maUdm28f",
        "colab_type": "code",
        "colab": {}
      },
      "source": [
        ""
      ],
      "execution_count": 0,
      "outputs": []
    },
    {
      "cell_type": "markdown",
      "metadata": {
        "id": "DnHvEmu5oeDB",
        "colab_type": "text"
      },
      "source": [
        "We can see that clustering with the convolutional encoded data gives the best results. It has learned the useful features of the images, better than the deep or simple autoencoder did."
      ]
    },
    {
      "cell_type": "code",
      "metadata": {
        "id": "zxhdDQ6ro28O",
        "colab_type": "code",
        "colab": {}
      },
      "source": [
        ""
      ],
      "execution_count": 0,
      "outputs": []
    }
  ]
}