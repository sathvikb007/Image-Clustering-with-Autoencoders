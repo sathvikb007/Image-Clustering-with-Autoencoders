{
  "nbformat": 4,
  "nbformat_minor": 0,
  "metadata": {
    "colab": {
      "name": "convolutionalAE.ipynb",
      "provenance": [],
      "collapsed_sections": [],
      "include_colab_link": true
    },
    "kernelspec": {
      "name": "python3",
      "display_name": "Python 3"
    },
    "accelerator": "GPU"
  },
  "cells": [
    {
      "cell_type": "markdown",
      "metadata": {
        "id": "view-in-github",
        "colab_type": "text"
      },
      "source": [
        "<a href=\"https://colab.research.google.com/github/sathvikb007/Image-Clustering-with-Autoencoders/blob/Branch1/convolutionalAE.ipynb\" target=\"_parent\"><img src=\"https://colab.research.google.com/assets/colab-badge.svg\" alt=\"Open In Colab\"/></a>"
      ]
    },
    {
      "cell_type": "code",
      "metadata": {
        "id": "cfzWL0w8UZ2S",
        "colab_type": "code",
        "outputId": "8db89c58-9918-494b-ff2a-3bfdd49abb47",
        "colab": {
          "base_uri": "https://localhost:8080/",
          "height": 81
        }
      },
      "source": [
        "from keras.layers import *\n",
        "from keras.models import Model\n",
        "from keras.datasets import mnist\n",
        "from keras.callbacks import ReduceLROnPlateau\n",
        "from keras import regularizers\n",
        "from keras import optimizers\n",
        "from keras.optimizers import RMSprop\n",
        "from keras import backend as K\n",
        "import scipy\n",
        "import matplotlib.pyplot as plt\n",
        "from matplotlib.offsetbox import OffsetImage, AnnotationBbox, TextArea\n",
        "import pandas as pd\n",
        "import numpy as np\n",
        "import tensorflow as tf\n"
      ],
      "execution_count": 0,
      "outputs": [
        {
          "output_type": "stream",
          "text": [
            "Using TensorFlow backend.\n"
          ],
          "name": "stderr"
        },
        {
          "output_type": "display_data",
          "data": {
            "text/html": [
              "<p style=\"color: red;\">\n",
              "The default version of TensorFlow in Colab will soon switch to TensorFlow 2.x.<br>\n",
              "We recommend you <a href=\"https://www.tensorflow.org/guide/migrate\" target=\"_blank\">upgrade</a> now \n",
              "or ensure your notebook will continue to use TensorFlow 1.x via the <code>%tensorflow_version 1.x</code> magic:\n",
              "<a href=\"https://colab.research.google.com/notebooks/tensorflow_version.ipynb\" target=\"_blank\">more info</a>.</p>\n"
            ],
            "text/plain": [
              "<IPython.core.display.HTML object>"
            ]
          },
          "metadata": {
            "tags": []
          }
        }
      ]
    },
    {
      "cell_type": "code",
      "metadata": {
        "id": "HG8ajz9TUtzO",
        "colab_type": "code",
        "colab": {}
      },
      "source": [
        "fashion_mnist = tf.keras.datasets.fashion_mnist\n",
        "(x_train, y_train), (x_test, y_test) = fashion_mnist.load_data()"
      ],
      "execution_count": 0,
      "outputs": []
    },
    {
      "cell_type": "code",
      "metadata": {
        "id": "wXPEF9SPUyE1",
        "colab_type": "code",
        "outputId": "c4dcd225-0e7d-46af-8b8d-d7f8d807aa8c",
        "colab": {
          "base_uri": "https://localhost:8080/",
          "height": 52
        }
      },
      "source": [
        "x_train = x_train.astype('float32') / 255.\n",
        "x_test = x_test.astype('float32') / 255.\n",
        "x_train = x_train.reshape((len(x_train), np.prod(x_train.shape[1:])))\n",
        "x_test = x_test.reshape((len(x_test), np.prod(x_test.shape[1:])))\n",
        "print (x_train.shape)\n",
        "print (x_test.shape)"
      ],
      "execution_count": 0,
      "outputs": [
        {
          "output_type": "stream",
          "text": [
            "(60000, 784)\n",
            "(10000, 784)\n"
          ],
          "name": "stdout"
        }
      ]
    },
    {
      "cell_type": "code",
      "metadata": {
        "id": "jorYj9veV69D",
        "colab_type": "code",
        "outputId": "b96dd32e-dc5e-43c9-9fe4-7c755c24b80c",
        "colab": {
          "base_uri": "https://localhost:8080/",
          "height": 52
        }
      },
      "source": [
        "x_train = x_train.reshape(60000,28,28,1)\n",
        "x_test = x_test.reshape(10000,28,28,1)\n",
        "print(x_train.shape)\n",
        "print(x_test.shape)"
      ],
      "execution_count": 0,
      "outputs": [
        {
          "output_type": "stream",
          "text": [
            "(60000, 28, 28, 1)\n",
            "(10000, 28, 28, 1)\n"
          ],
          "name": "stdout"
        }
      ]
    },
    {
      "cell_type": "code",
      "metadata": {
        "id": "-28Wf1xDVOdr",
        "colab_type": "code",
        "outputId": "cb24faff-ce60-46fd-a6a9-9a75b5a5dbf7",
        "colab": {
          "base_uri": "https://localhost:8080/",
          "height": 107
        }
      },
      "source": [
        "input_img = Input(shape=(28, 28, 1))  # adapt this if using `channels_first` image data format\n",
        "\n",
        "x = Conv2D(64, (3, 3), activation='relu', padding='same')(input_img)\n",
        "x = BatchNormalization()(x)\n",
        "x = MaxPooling2D((2, 2), padding='same')(x)\n",
        "x = Conv2D(32, (3, 3), activation='relu', padding='same')(x)\n",
        "x = BatchNormalization()(x)\n",
        "x = MaxPooling2D((2, 2), padding='same')(x)\n",
        "x = Conv2D(16, (3, 3), activation='relu', padding='same')(x)\n",
        "x = BatchNormalization()(x)\n",
        "encoded = MaxPooling2D((2, 2), padding='same')(x)\n",
        "\n",
        "# at this point the representation is (4, 4, 8) i.e. 128-dimensional\n",
        "\n",
        "x = Conv2D(16, (3, 3), activation='relu', padding='same')(encoded)\n",
        "x = BatchNormalization()(x)\n",
        "x = UpSampling2D((2, 2))(x)\n",
        "x = Conv2D(32, (3, 3), activation='relu', padding='same')(x)\n",
        "x = BatchNormalization()(x)\n",
        "x = UpSampling2D((2, 2))(x)\n",
        "x = Conv2D(64, (3, 3), activation='relu')(x)\n",
        "x = BatchNormalization()(x)\n",
        "x = UpSampling2D((2, 2))(x)\n",
        "decoded = Conv2D(1, (3, 3), activation='sigmoid', padding='same')(x)"
      ],
      "execution_count": 0,
      "outputs": [
        {
          "output_type": "stream",
          "text": [
            "WARNING:tensorflow:From /usr/local/lib/python3.6/dist-packages/keras/backend/tensorflow_backend.py:2041: The name tf.nn.fused_batch_norm is deprecated. Please use tf.compat.v1.nn.fused_batch_norm instead.\n",
            "\n",
            "WARNING:tensorflow:From /usr/local/lib/python3.6/dist-packages/keras/backend/tensorflow_backend.py:148: The name tf.placeholder_with_default is deprecated. Please use tf.compat.v1.placeholder_with_default instead.\n",
            "\n"
          ],
          "name": "stdout"
        }
      ]
    },
    {
      "cell_type": "code",
      "metadata": {
        "id": "1h-Shs9bVTBo",
        "colab_type": "code",
        "colab": {}
      },
      "source": [
        "autoencoder = Model(input_img, decoded)\n",
        "autoencoder.compile(optimizer='adadelta', loss='binary_crossentropy')"
      ],
      "execution_count": 0,
      "outputs": []
    },
    {
      "cell_type": "code",
      "metadata": {
        "id": "JpI6cTeaVbmo",
        "colab_type": "code",
        "outputId": "31d3a1a8-1575-40e4-8c15-a5b5f0285134",
        "colab": {
          "base_uri": "https://localhost:8080/",
          "height": 1000
        }
      },
      "source": [
        "autoencoder.fit(x_train, x_train,\n",
        "                epochs=100,\n",
        "                batch_size=256,\n",
        "                shuffle=True,\n",
        "                validation_data=(x_test, x_test))"
      ],
      "execution_count": 0,
      "outputs": [
        {
          "output_type": "stream",
          "text": [
            "Train on 60000 samples, validate on 10000 samples\n",
            "Epoch 1/100\n",
            "60000/60000 [==============================] - 6s 94us/step - loss: 0.3650 - val_loss: 0.3335\n",
            "Epoch 2/100\n",
            "60000/60000 [==============================] - 4s 74us/step - loss: 0.3021 - val_loss: 0.2997\n",
            "Epoch 3/100\n",
            "60000/60000 [==============================] - 4s 74us/step - loss: 0.2922 - val_loss: 0.2936\n",
            "Epoch 4/100\n",
            "60000/60000 [==============================] - 4s 73us/step - loss: 0.2879 - val_loss: 0.2991\n",
            "Epoch 5/100\n",
            "60000/60000 [==============================] - 4s 73us/step - loss: 0.2844 - val_loss: 0.2884\n",
            "Epoch 6/100\n",
            "60000/60000 [==============================] - 4s 72us/step - loss: 0.2825 - val_loss: 0.2838\n",
            "Epoch 7/100\n",
            "60000/60000 [==============================] - 4s 72us/step - loss: 0.2805 - val_loss: 0.2814\n",
            "Epoch 8/100\n",
            "60000/60000 [==============================] - 4s 73us/step - loss: 0.2791 - val_loss: 0.2803\n",
            "Epoch 9/100\n",
            "60000/60000 [==============================] - 4s 72us/step - loss: 0.2779 - val_loss: 0.2811\n",
            "Epoch 10/100\n",
            "60000/60000 [==============================] - 4s 73us/step - loss: 0.2771 - val_loss: 0.2780\n",
            "Epoch 11/100\n",
            "60000/60000 [==============================] - 4s 73us/step - loss: 0.2762 - val_loss: 0.2795\n",
            "Epoch 12/100\n",
            "60000/60000 [==============================] - 4s 72us/step - loss: 0.2753 - val_loss: 0.2778\n",
            "Epoch 13/100\n",
            "60000/60000 [==============================] - 4s 72us/step - loss: 0.2747 - val_loss: 0.2757\n",
            "Epoch 14/100\n",
            "60000/60000 [==============================] - 4s 73us/step - loss: 0.2741 - val_loss: 0.2767\n",
            "Epoch 15/100\n",
            "60000/60000 [==============================] - 4s 73us/step - loss: 0.2735 - val_loss: 0.2752\n",
            "Epoch 16/100\n",
            "60000/60000 [==============================] - 4s 72us/step - loss: 0.2732 - val_loss: 0.2750\n",
            "Epoch 17/100\n",
            "60000/60000 [==============================] - 4s 73us/step - loss: 0.2726 - val_loss: 0.2758\n",
            "Epoch 18/100\n",
            "60000/60000 [==============================] - 4s 73us/step - loss: 0.2723 - val_loss: 0.2736\n",
            "Epoch 19/100\n",
            "60000/60000 [==============================] - 4s 73us/step - loss: 0.2718 - val_loss: 0.2756\n",
            "Epoch 20/100\n",
            "60000/60000 [==============================] - 4s 73us/step - loss: 0.2715 - val_loss: 0.2728\n",
            "Epoch 21/100\n",
            "60000/60000 [==============================] - 4s 73us/step - loss: 0.2711 - val_loss: 0.2735\n",
            "Epoch 22/100\n",
            "60000/60000 [==============================] - 4s 73us/step - loss: 0.2708 - val_loss: 0.2727\n",
            "Epoch 23/100\n",
            "60000/60000 [==============================] - 4s 73us/step - loss: 0.2705 - val_loss: 0.2738\n",
            "Epoch 24/100\n",
            "60000/60000 [==============================] - 4s 73us/step - loss: 0.2703 - val_loss: 0.2715\n",
            "Epoch 25/100\n",
            "60000/60000 [==============================] - 4s 72us/step - loss: 0.2699 - val_loss: 0.2716\n",
            "Epoch 26/100\n",
            "60000/60000 [==============================] - 4s 72us/step - loss: 0.2697 - val_loss: 0.2714\n",
            "Epoch 27/100\n",
            "60000/60000 [==============================] - 4s 73us/step - loss: 0.2695 - val_loss: 0.2715\n",
            "Epoch 28/100\n",
            "60000/60000 [==============================] - 4s 72us/step - loss: 0.2693 - val_loss: 0.2711\n",
            "Epoch 29/100\n",
            "60000/60000 [==============================] - 4s 72us/step - loss: 0.2690 - val_loss: 0.2708\n",
            "Epoch 30/100\n",
            "60000/60000 [==============================] - 4s 72us/step - loss: 0.2688 - val_loss: 0.2703\n",
            "Epoch 31/100\n",
            "60000/60000 [==============================] - 4s 72us/step - loss: 0.2686 - val_loss: 0.2705\n",
            "Epoch 32/100\n",
            "60000/60000 [==============================] - 4s 72us/step - loss: 0.2685 - val_loss: 0.2715\n",
            "Epoch 33/100\n",
            "60000/60000 [==============================] - 4s 73us/step - loss: 0.2682 - val_loss: 0.2725\n",
            "Epoch 34/100\n",
            "60000/60000 [==============================] - 4s 73us/step - loss: 0.2681 - val_loss: 0.2703\n",
            "Epoch 35/100\n",
            "60000/60000 [==============================] - 4s 72us/step - loss: 0.2679 - val_loss: 0.2692\n",
            "Epoch 36/100\n",
            "60000/60000 [==============================] - 4s 73us/step - loss: 0.2678 - val_loss: 0.2692\n",
            "Epoch 37/100\n",
            "60000/60000 [==============================] - 4s 73us/step - loss: 0.2676 - val_loss: 0.2701\n",
            "Epoch 38/100\n",
            "60000/60000 [==============================] - 4s 72us/step - loss: 0.2675 - val_loss: 0.2702\n",
            "Epoch 39/100\n",
            "60000/60000 [==============================] - 4s 72us/step - loss: 0.2674 - val_loss: 0.2694\n",
            "Epoch 40/100\n",
            "60000/60000 [==============================] - 4s 73us/step - loss: 0.2672 - val_loss: 0.2698\n",
            "Epoch 41/100\n",
            "60000/60000 [==============================] - 4s 73us/step - loss: 0.2671 - val_loss: 0.2687\n",
            "Epoch 42/100\n",
            "60000/60000 [==============================] - 4s 73us/step - loss: 0.2669 - val_loss: 0.2688\n",
            "Epoch 43/100\n",
            "60000/60000 [==============================] - 4s 73us/step - loss: 0.2668 - val_loss: 0.2690\n",
            "Epoch 44/100\n",
            "60000/60000 [==============================] - 4s 73us/step - loss: 0.2668 - val_loss: 0.2688\n",
            "Epoch 45/100\n",
            "60000/60000 [==============================] - 4s 72us/step - loss: 0.2666 - val_loss: 0.2685\n",
            "Epoch 46/100\n",
            "60000/60000 [==============================] - 4s 72us/step - loss: 0.2664 - val_loss: 0.2714\n",
            "Epoch 47/100\n",
            "60000/60000 [==============================] - 4s 72us/step - loss: 0.2664 - val_loss: 0.2686\n",
            "Epoch 48/100\n",
            "60000/60000 [==============================] - 4s 72us/step - loss: 0.2662 - val_loss: 0.2687\n",
            "Epoch 49/100\n",
            "60000/60000 [==============================] - 4s 72us/step - loss: 0.2662 - val_loss: 0.2683\n",
            "Epoch 50/100\n",
            "60000/60000 [==============================] - 4s 72us/step - loss: 0.2660 - val_loss: 0.2682\n",
            "Epoch 51/100\n",
            "60000/60000 [==============================] - 4s 73us/step - loss: 0.2659 - val_loss: 0.2693\n",
            "Epoch 52/100\n",
            "60000/60000 [==============================] - 4s 72us/step - loss: 0.2659 - val_loss: 0.2682\n",
            "Epoch 53/100\n",
            "60000/60000 [==============================] - 4s 73us/step - loss: 0.2657 - val_loss: 0.2672\n",
            "Epoch 54/100\n",
            "60000/60000 [==============================] - 4s 72us/step - loss: 0.2657 - val_loss: 0.2681\n",
            "Epoch 55/100\n",
            "60000/60000 [==============================] - 4s 73us/step - loss: 0.2656 - val_loss: 0.2675\n",
            "Epoch 56/100\n",
            "60000/60000 [==============================] - 4s 73us/step - loss: 0.2655 - val_loss: 0.2681\n",
            "Epoch 57/100\n",
            "60000/60000 [==============================] - 4s 73us/step - loss: 0.2654 - val_loss: 0.2680\n",
            "Epoch 58/100\n",
            "60000/60000 [==============================] - 4s 73us/step - loss: 0.2654 - val_loss: 0.2678\n",
            "Epoch 59/100\n",
            "60000/60000 [==============================] - 4s 73us/step - loss: 0.2653 - val_loss: 0.2669\n",
            "Epoch 60/100\n",
            "60000/60000 [==============================] - 4s 73us/step - loss: 0.2651 - val_loss: 0.2671\n",
            "Epoch 61/100\n",
            "60000/60000 [==============================] - 4s 73us/step - loss: 0.2651 - val_loss: 0.2671\n",
            "Epoch 62/100\n",
            "60000/60000 [==============================] - 4s 73us/step - loss: 0.2651 - val_loss: 0.2670\n",
            "Epoch 63/100\n",
            "60000/60000 [==============================] - 4s 73us/step - loss: 0.2650 - val_loss: 0.2689\n",
            "Epoch 64/100\n",
            "60000/60000 [==============================] - 4s 73us/step - loss: 0.2649 - val_loss: 0.2669\n",
            "Epoch 65/100\n",
            "60000/60000 [==============================] - 4s 73us/step - loss: 0.2649 - val_loss: 0.2666\n",
            "Epoch 66/100\n",
            "60000/60000 [==============================] - 4s 73us/step - loss: 0.2647 - val_loss: 0.2663\n",
            "Epoch 67/100\n",
            "60000/60000 [==============================] - 4s 72us/step - loss: 0.2647 - val_loss: 0.2672\n",
            "Epoch 68/100\n",
            "60000/60000 [==============================] - 4s 73us/step - loss: 0.2646 - val_loss: 0.2664\n",
            "Epoch 69/100\n",
            "60000/60000 [==============================] - 4s 72us/step - loss: 0.2645 - val_loss: 0.2672\n",
            "Epoch 70/100\n",
            "60000/60000 [==============================] - 4s 73us/step - loss: 0.2644 - val_loss: 0.2680\n",
            "Epoch 71/100\n",
            "60000/60000 [==============================] - 4s 72us/step - loss: 0.2645 - val_loss: 0.2661\n",
            "Epoch 72/100\n",
            "60000/60000 [==============================] - 4s 73us/step - loss: 0.2643 - val_loss: 0.2662\n",
            "Epoch 73/100\n",
            "60000/60000 [==============================] - 4s 74us/step - loss: 0.2643 - val_loss: 0.2694\n",
            "Epoch 74/100\n",
            "60000/60000 [==============================] - 4s 73us/step - loss: 0.2642 - val_loss: 0.2662\n",
            "Epoch 75/100\n",
            "60000/60000 [==============================] - 4s 72us/step - loss: 0.2641 - val_loss: 0.2669\n",
            "Epoch 76/100\n",
            "60000/60000 [==============================] - 4s 72us/step - loss: 0.2641 - val_loss: 0.2656\n",
            "Epoch 77/100\n",
            "60000/60000 [==============================] - 4s 73us/step - loss: 0.2639 - val_loss: 0.2665\n",
            "Epoch 78/100\n",
            "60000/60000 [==============================] - 4s 73us/step - loss: 0.2640 - val_loss: 0.2660\n",
            "Epoch 79/100\n",
            "60000/60000 [==============================] - 4s 73us/step - loss: 0.2639 - val_loss: 0.2666\n",
            "Epoch 80/100\n",
            "60000/60000 [==============================] - 4s 73us/step - loss: 0.2639 - val_loss: 0.2659\n",
            "Epoch 81/100\n",
            "60000/60000 [==============================] - 4s 73us/step - loss: 0.2638 - val_loss: 0.2661\n",
            "Epoch 82/100\n",
            "60000/60000 [==============================] - 4s 72us/step - loss: 0.2638 - val_loss: 0.2661\n",
            "Epoch 83/100\n",
            "60000/60000 [==============================] - 4s 72us/step - loss: 0.2638 - val_loss: 0.2664\n",
            "Epoch 84/100\n",
            "60000/60000 [==============================] - 4s 73us/step - loss: 0.2637 - val_loss: 0.2664\n",
            "Epoch 85/100\n",
            "60000/60000 [==============================] - 4s 72us/step - loss: 0.2635 - val_loss: 0.2664\n",
            "Epoch 86/100\n",
            "60000/60000 [==============================] - 4s 72us/step - loss: 0.2636 - val_loss: 0.2670\n",
            "Epoch 87/100\n",
            "60000/60000 [==============================] - 4s 73us/step - loss: 0.2635 - val_loss: 0.2657\n",
            "Epoch 88/100\n",
            "60000/60000 [==============================] - 4s 73us/step - loss: 0.2635 - val_loss: 0.2660\n",
            "Epoch 89/100\n",
            "60000/60000 [==============================] - 4s 72us/step - loss: 0.2634 - val_loss: 0.2659\n",
            "Epoch 90/100\n",
            "60000/60000 [==============================] - 4s 73us/step - loss: 0.2634 - val_loss: 0.2653\n",
            "Epoch 91/100\n",
            "60000/60000 [==============================] - 4s 73us/step - loss: 0.2634 - val_loss: 0.2665\n",
            "Epoch 92/100\n",
            "60000/60000 [==============================] - 4s 73us/step - loss: 0.2632 - val_loss: 0.2673\n",
            "Epoch 93/100\n",
            "60000/60000 [==============================] - 4s 73us/step - loss: 0.2633 - val_loss: 0.2659\n",
            "Epoch 94/100\n",
            "60000/60000 [==============================] - 4s 72us/step - loss: 0.2632 - val_loss: 0.2651\n",
            "Epoch 95/100\n",
            "60000/60000 [==============================] - 4s 73us/step - loss: 0.2631 - val_loss: 0.2661\n",
            "Epoch 96/100\n",
            "60000/60000 [==============================] - 4s 73us/step - loss: 0.2631 - val_loss: 0.2654\n",
            "Epoch 97/100\n",
            "60000/60000 [==============================] - 4s 73us/step - loss: 0.2630 - val_loss: 0.2654\n",
            "Epoch 98/100\n",
            "60000/60000 [==============================] - 4s 73us/step - loss: 0.2630 - val_loss: 0.2671\n",
            "Epoch 99/100\n",
            "60000/60000 [==============================] - 4s 73us/step - loss: 0.2630 - val_loss: 0.2649\n",
            "Epoch 100/100\n",
            "60000/60000 [==============================] - 4s 72us/step - loss: 0.2629 - val_loss: 0.2661\n"
          ],
          "name": "stdout"
        },
        {
          "output_type": "execute_result",
          "data": {
            "text/plain": [
              "<keras.callbacks.History at 0x7f43b5777f60>"
            ]
          },
          "metadata": {
            "tags": []
          },
          "execution_count": 29
        }
      ]
    },
    {
      "cell_type": "code",
      "metadata": {
        "id": "seIVejd1Vurx",
        "colab_type": "code",
        "outputId": "dbe83c39-f3b9-401b-ca08-eb18779f5ddd",
        "colab": {
          "base_uri": "https://localhost:8080/",
          "height": 862
        }
      },
      "source": [
        "autoencoder.summary()"
      ],
      "execution_count": 0,
      "outputs": [
        {
          "output_type": "stream",
          "text": [
            "Model: \"model_3\"\n",
            "_________________________________________________________________\n",
            "Layer (type)                 Output Shape              Param #   \n",
            "=================================================================\n",
            "input_2 (InputLayer)         (None, 28, 28, 1)         0         \n",
            "_________________________________________________________________\n",
            "conv2d_8 (Conv2D)            (None, 28, 28, 64)        640       \n",
            "_________________________________________________________________\n",
            "batch_normalization_1 (Batch (None, 28, 28, 64)        256       \n",
            "_________________________________________________________________\n",
            "max_pooling2d_4 (MaxPooling2 (None, 14, 14, 64)        0         \n",
            "_________________________________________________________________\n",
            "conv2d_9 (Conv2D)            (None, 14, 14, 32)        18464     \n",
            "_________________________________________________________________\n",
            "batch_normalization_2 (Batch (None, 14, 14, 32)        128       \n",
            "_________________________________________________________________\n",
            "max_pooling2d_5 (MaxPooling2 (None, 7, 7, 32)          0         \n",
            "_________________________________________________________________\n",
            "conv2d_10 (Conv2D)           (None, 7, 7, 16)          4624      \n",
            "_________________________________________________________________\n",
            "batch_normalization_3 (Batch (None, 7, 7, 16)          64        \n",
            "_________________________________________________________________\n",
            "max_pooling2d_6 (MaxPooling2 (None, 4, 4, 16)          0         \n",
            "_________________________________________________________________\n",
            "conv2d_11 (Conv2D)           (None, 4, 4, 16)          2320      \n",
            "_________________________________________________________________\n",
            "batch_normalization_4 (Batch (None, 4, 4, 16)          64        \n",
            "_________________________________________________________________\n",
            "up_sampling2d_4 (UpSampling2 (None, 8, 8, 16)          0         \n",
            "_________________________________________________________________\n",
            "conv2d_12 (Conv2D)           (None, 8, 8, 32)          4640      \n",
            "_________________________________________________________________\n",
            "batch_normalization_5 (Batch (None, 8, 8, 32)          128       \n",
            "_________________________________________________________________\n",
            "up_sampling2d_5 (UpSampling2 (None, 16, 16, 32)        0         \n",
            "_________________________________________________________________\n",
            "conv2d_13 (Conv2D)           (None, 14, 14, 64)        18496     \n",
            "_________________________________________________________________\n",
            "batch_normalization_6 (Batch (None, 14, 14, 64)        256       \n",
            "_________________________________________________________________\n",
            "up_sampling2d_6 (UpSampling2 (None, 28, 28, 64)        0         \n",
            "_________________________________________________________________\n",
            "conv2d_14 (Conv2D)           (None, 28, 28, 1)         577       \n",
            "=================================================================\n",
            "Total params: 50,657\n",
            "Trainable params: 50,209\n",
            "Non-trainable params: 448\n",
            "_________________________________________________________________\n"
          ],
          "name": "stdout"
        }
      ]
    },
    {
      "cell_type": "code",
      "metadata": {
        "id": "5dGY4rtfaRl1",
        "colab_type": "code",
        "colab": {}
      },
      "source": [
        "encoder = Model(input_img, encoded)"
      ],
      "execution_count": 0,
      "outputs": []
    },
    {
      "cell_type": "code",
      "metadata": {
        "id": "KTa2oD91GzDQ",
        "colab_type": "code",
        "outputId": "b205a139-939a-482c-f28e-1005ecef983a",
        "colab": {
          "base_uri": "https://localhost:8080/",
          "height": 510
        }
      },
      "source": [
        "encoder.summary()"
      ],
      "execution_count": 0,
      "outputs": [
        {
          "output_type": "stream",
          "text": [
            "Model: \"model_4\"\n",
            "_________________________________________________________________\n",
            "Layer (type)                 Output Shape              Param #   \n",
            "=================================================================\n",
            "input_2 (InputLayer)         (None, 28, 28, 1)         0         \n",
            "_________________________________________________________________\n",
            "conv2d_8 (Conv2D)            (None, 28, 28, 64)        640       \n",
            "_________________________________________________________________\n",
            "batch_normalization_1 (Batch (None, 28, 28, 64)        256       \n",
            "_________________________________________________________________\n",
            "max_pooling2d_4 (MaxPooling2 (None, 14, 14, 64)        0         \n",
            "_________________________________________________________________\n",
            "conv2d_9 (Conv2D)            (None, 14, 14, 32)        18464     \n",
            "_________________________________________________________________\n",
            "batch_normalization_2 (Batch (None, 14, 14, 32)        128       \n",
            "_________________________________________________________________\n",
            "max_pooling2d_5 (MaxPooling2 (None, 7, 7, 32)          0         \n",
            "_________________________________________________________________\n",
            "conv2d_10 (Conv2D)           (None, 7, 7, 16)          4624      \n",
            "_________________________________________________________________\n",
            "batch_normalization_3 (Batch (None, 7, 7, 16)          64        \n",
            "_________________________________________________________________\n",
            "max_pooling2d_6 (MaxPooling2 (None, 4, 4, 16)          0         \n",
            "=================================================================\n",
            "Total params: 24,176\n",
            "Trainable params: 23,952\n",
            "Non-trainable params: 224\n",
            "_________________________________________________________________\n"
          ],
          "name": "stdout"
        }
      ]
    },
    {
      "cell_type": "code",
      "metadata": {
        "id": "vHakwyJRdOyG",
        "colab_type": "code",
        "colab": {}
      },
      "source": [
        "CAE_encoded_imgs_train = encoder.predict(x_train)\n",
        "CAE_decoded_imgs_train = autoencoder.predict(x_train)\n",
        "\n",
        "CAE_encoded_imgs_test = encoder.predict(x_test)\n",
        "CAE_decoded_imgs_test = autoencoder.predict(x_test)"
      ],
      "execution_count": 0,
      "outputs": []
    },
    {
      "cell_type": "code",
      "metadata": {
        "id": "sc7sLf53dT2G",
        "colab_type": "code",
        "outputId": "e876b55d-e9ae-4c5c-e92c-0de591a9d0f9",
        "colab": {
          "base_uri": "https://localhost:8080/",
          "height": 396
        }
      },
      "source": [
        "n = 10  # how many digits we will display\n",
        "plt.figure(figsize=(30,6))\n",
        "for i in range(n):\n",
        "    # display original\n",
        "    ax = plt.subplot(3, n, i + 1)\n",
        "    plt.gray()\n",
        "    plt.imshow(x_train[i].reshape(28, 28))\n",
        "    \n",
        "    \n",
        "\n",
        "    # display reconstruction\n",
        "    ax = plt.subplot(3, n, i + 1 + n)\n",
        "    plt.imshow(CAE_decoded_imgs_train[i].reshape(28, 28))\n",
        "\n",
        "    #display latent representation\n",
        "    ax = plt.subplot(3, n, i+1+ n*2)\n",
        "    plt.imshow(CAE_encoded_imgs_train[i].reshape(16,16))\n",
        "   \n",
        "plt.show()"
      ],
      "execution_count": 0,
      "outputs": [
        {
          "output_type": "display_data",
          "data": {
            "image/png": "[encoded data removed]",
            "text/plain": [
              "<Figure size 2160x432 with 30 Axes>"
            ]
          },
          "metadata": {
            "tags": []
          }
        }
      ]
    },
    {
      "cell_type": "code",
      "metadata": {
        "id": "wIm6gy4SXijN",
        "colab_type": "code",
        "colab": {}
      },
      "source": [
        "CAE_encoded_imgs_train = CAE_encoded_imgs_train.reshape(60000,256)\n",
        "CAE_encoded_imgs_test = CAE_encoded_imgs_test.reshape(10000,256)"
      ],
      "execution_count": 0,
      "outputs": []
    },
    {
      "cell_type": "code",
      "metadata": {
        "id": "PUG1NBHZde1b",
        "colab_type": "code",
        "outputId": "4e095426-920d-446e-bb54-344b0b1ff6dd",
        "colab": {
          "base_uri": "https://localhost:8080/",
          "height": 52
        }
      },
      "source": [
        "print(CAE_encoded_imgs_train.shape)\n",
        "print(CAE_encoded_imgs_test.shape)"
      ],
      "execution_count": 0,
      "outputs": [
        {
          "output_type": "stream",
          "text": [
            "(60000, 256)\n",
            "(10000, 256)\n"
          ],
          "name": "stdout"
        }
      ]
    },
    {
      "cell_type": "code",
      "metadata": {
        "id": "fVd1RIMSXJkd",
        "colab_type": "code",
        "colab": {}
      },
      "source": [
        "from sklearn.preprocessing import StandardScaler\n",
        "sc = StandardScaler()\n",
        "X_train = sc.fit_transform(CAE_encoded_imgs_train)\n",
        "X_test  = sc.transform(CAE_encoded_imgs_test)"
      ],
      "execution_count": 0,
      "outputs": []
    },
    {
      "cell_type": "code",
      "metadata": {
        "id": "WSzQrqGzYArF",
        "colab_type": "code",
        "colab": {}
      },
      "source": [
        "from sklearn.cluster import KMeans\n",
        "CAEkmeans = KMeans(n_clusters=10, random_state=0).fit(X_train)"
      ],
      "execution_count": 0,
      "outputs": []
    },
    {
      "cell_type": "code",
      "metadata": {
        "id": "gx78bhgLYFer",
        "colab_type": "code",
        "outputId": "cd7b4eb2-2093-434f-fe73-2dfeb1bcf8be",
        "colab": {
          "base_uri": "https://localhost:8080/",
          "height": 35
        }
      },
      "source": [
        "CAEkmeans.inertia_/(60000*128)"
      ],
      "execution_count": 0,
      "outputs": [
        {
          "output_type": "execute_result",
          "data": {
            "text/plain": [
              "0.9542177155625957"
            ]
          },
          "metadata": {
            "tags": []
          },
          "execution_count": 17
        }
      ]
    },
    {
      "cell_type": "code",
      "metadata": {
        "id": "tJztEAdjYXlq",
        "colab_type": "code",
        "colab": {}
      },
      "source": [
        "from sklearn.cluster import KMeans\n",
        "kmeans = KMeans(n_clusters=10, random_state=0).fit(CAE_encoded_imgs_train)\n",
        "ypredenc = kmeans.predict(CAE_encoded_imgs_train).tolist()\n",
        "#y_train = y_train.reshape(60000,).tolist()"
      ],
      "execution_count": 0,
      "outputs": []
    },
    {
      "cell_type": "code",
      "metadata": {
        "id": "x3XC40CSgRsN",
        "colab_type": "code",
        "outputId": "a233ac4f-f574-420e-fd2b-aad79d732f14",
        "colab": {
          "base_uri": "https://localhost:8080/",
          "height": 185
        }
      },
      "source": [
        "from sklearn import metrics\n",
        "print(metrics.adjusted_rand_score(y_train, ypredenc))"
      ],
      "execution_count": 0,
      "outputs": [
        {
          "output_type": "error",
          "ename": "NameError",
          "evalue": "ignored",
          "traceback": [
            "\u001b[0;31m---------------------------------------------------------------------------\u001b[0m",
            "\u001b[0;31mNameError\u001b[0m                                 Traceback (most recent call last)",
            "\u001b[0;32m<ipython-input-1-02817feae4cb>\u001b[0m in \u001b[0;36m<module>\u001b[0;34m()\u001b[0m\n\u001b[1;32m      1\u001b[0m \u001b[0;32mfrom\u001b[0m \u001b[0msklearn\u001b[0m \u001b[0;32mimport\u001b[0m \u001b[0mmetrics\u001b[0m\u001b[0;34m\u001b[0m\u001b[0;34m\u001b[0m\u001b[0m\n\u001b[0;32m----> 2\u001b[0;31m \u001b[0mprint\u001b[0m\u001b[0;34m(\u001b[0m\u001b[0mmetrics\u001b[0m\u001b[0;34m.\u001b[0m\u001b[0madjusted_rand_score\u001b[0m\u001b[0;34m(\u001b[0m\u001b[0my_train\u001b[0m\u001b[0;34m,\u001b[0m \u001b[0mypredenc\u001b[0m\u001b[0;34m)\u001b[0m\u001b[0;34m)\u001b[0m\u001b[0;34m\u001b[0m\u001b[0;34m\u001b[0m\u001b[0m\n\u001b[0m",
            "\u001b[0;31mNameError\u001b[0m: name 'y_train' is not defined"
          ]
        }
      ]
    },
    {
      "cell_type": "code",
      "metadata": {
        "id": "B61O98FfgaMV",
        "colab_type": "code",
        "outputId": "b95eafaa-3809-4e07-9231-a671ed632eed",
        "colab": {
          "base_uri": "https://localhost:8080/",
          "height": 35
        }
      },
      "source": [
        "metrics.adjusted_rand_score([4, 4, 6, 9], [2, 2, 3, 4])"
      ],
      "execution_count": 0,
      "outputs": [
        {
          "output_type": "execute_result",
          "data": {
            "text/plain": [
              "1.0"
            ]
          },
          "metadata": {
            "tags": []
          },
          "execution_count": 3
        }
      ]
    },
    {
      "cell_type": "code",
      "metadata": {
        "id": "kykdbnKFvCRQ",
        "colab_type": "code",
        "outputId": "98dae53d-fc2f-4714-958c-6eea193cfde6",
        "colab": {
          "base_uri": "https://localhost:8080/",
          "height": 35
        }
      },
      "source": [
        "metrics.adjusted_rand_score([8, 4, 6, 4], [3, 2, 3, 1])"
      ],
      "execution_count": 0,
      "outputs": [
        {
          "output_type": "execute_result",
          "data": {
            "text/plain": [
              "-0.19999999999999998"
            ]
          },
          "metadata": {
            "tags": []
          },
          "execution_count": 45
        }
      ]
    },
    {
      "cell_type": "code",
      "metadata": {
        "id": "bOwlERCuvVX9",
        "colab_type": "code",
        "colab": {}
      },
      "source": [
        ""
      ],
      "execution_count": 0,
      "outputs": []
    }
  ]
}